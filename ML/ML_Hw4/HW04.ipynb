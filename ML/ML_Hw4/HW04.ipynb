{
  "cells": [
    {
      "attachments": {},
      "cell_type": "markdown",
      "metadata": {
        "id": "zC5KwRyl6Flp"
      },
      "source": [
        "# Task description\n",
        "- Classify the speakers of given features.\n",
        "- Main goal: Learn how to use transformer.\n",
        "- Baselines:\n",
        "  - Easy: Run sample code and know how to use transformer.\n",
        "  - Medium: Know how to adjust parameters of transformer.\n",
        "  - Hard: Construct [conformer](https://arxiv.org/abs/2005.08100) which is a variety of transformer. \n",
        "\n",
        "- Other links\n",
        "  - Kaggle: [link](https://www.kaggle.com/t/859c9ca9ede14fdea841be627c412322)\n",
        "  - Slide: [link](https://speech.ee.ntu.edu.tw/~hylee/ml/ml2021-course-data/hw/HW04/HW04.pdf)\n",
        "  - Data: [link](https://drive.google.com/file/d/1T0RPnu-Sg5eIPwQPfYysipfcz81MnsYe/view?usp=sharing)\n",
        "  - Video (Chinese): [link](https://www.youtube.com/watch?v=EPerg2UnGaI)\n",
        "  - Video (English): [link](https://www.youtube.com/watch?v=Gpz6AUvCak0)\n",
        "  - Solution for downloading dataset fail.: [link](https://drive.google.com/drive/folders/13T0Pa_WGgQxNkqZk781qhc5T9-zfh19e?usp=sharing)"
      ]
    },
    {
      "attachments": {},
      "cell_type": "markdown",
      "metadata": {
        "id": "TPDoreyypeJE"
      },
      "source": [
        "# Download dataset\n",
        "- Please follow [here](https://drive.google.com/drive/folders/13T0Pa_WGgQxNkqZk781qhc5T9-zfh19e?usp=sharing) to download data\n",
        "- Data is [here](https://drive.google.com/file/d/1FCjdQkMk9YAIhRkUjbbbv89YO9HhPD8J/view?usp=sharing)"
      ]
    },
    {
      "cell_type": "code",
      "execution_count": 11,
      "metadata": {
        "colab": {
          "base_uri": "https://localhost:8080/"
        },
        "id": "QvpaILXnJIcw",
        "outputId": "077ee1d4-0c2f-4897-d36e-6a95bd989173"
      },
      "outputs": [],
      "source": [
        "# !gdown --id '1FCjdQkMk9YAIhRkUjbbbv89YO9HhPD8J' --output Dataset.zip\n",
        "# !unzip Dataset.zip"
      ]
    },
    {
      "attachments": {},
      "cell_type": "markdown",
      "metadata": {
        "id": "v1gYr_aoNDue"
      },
      "source": [
        "# Data"
      ]
    },
    {
      "attachments": {},
      "cell_type": "markdown",
      "metadata": {
        "id": "Mz_NpuAipk3h"
      },
      "source": [
        "## Dataset\n",
        "- Original dataset is [Voxceleb1](https://www.robots.ox.ac.uk/~vgg/data/voxceleb/).\n",
        "- The [license](https://creativecommons.org/licenses/by/4.0/) and [complete version](https://www.robots.ox.ac.uk/~vgg/data/voxceleb/files/license.txt) of Voxceleb1.\n",
        "- We randomly select 600 speakers from Voxceleb1.\n",
        "- Then preprocess the raw waveforms into mel-spectrograms.\n",
        "\n",
        "- Args:\n",
        "  - data_dir: The path to the data directory.\n",
        "  - metadata_path: The path to the metadata.\n",
        "  - segment_len: The length of audio segment for training. \n",
        "- The architecture of data directory \\\\\n",
        "  - data directory \\\\\n",
        "  |---- metadata.json \\\\\n",
        "  |---- testdata.json \\\\\n",
        "  |---- mapping.json \\\\\n",
        "  |---- uttr-{random string}.pt \\\\\n",
        "\n",
        "- The information in metadata\n",
        "  - \"n_mels\": The dimention of mel-spectrogram.\n",
        "  - \"speakers\": A dictionary. \n",
        "    - Key: speaker ids.\n",
        "    - value: \"feature_path\" and \"mel_len\"\n",
        "\n",
        "\n",
        "For efficiency, we segment the mel-spectrograms into segments in the traing step."
      ]
    },
    {
      "cell_type": "code",
      "execution_count": 12,
      "metadata": {
        "id": "cd7hoGhYtbXQ"
      },
      "outputs": [],
      "source": [
        "import os\n",
        "import json\n",
        "import torch\n",
        "import random\n",
        "from pathlib import Path\n",
        "from torch.utils.data import Dataset\n",
        "from torch.nn.utils.rnn import pad_sequence\n",
        "\n",
        " \n",
        " \n",
        "class myDataset(Dataset):\n",
        "    def __init__(self, data_dir, segment_len=128):\n",
        "        self.data_dir = data_dir\n",
        "        self.segment_len = segment_len\n",
        "    \n",
        "        # Load the mapping from speaker neme to their corresponding id. \n",
        "        mapping_path = Path(data_dir) / \"mapping.json\"\n",
        "        mapping = json.load(mapping_path.open())\n",
        "        self.speaker2id = mapping[\"speaker2id\"]\n",
        "    \n",
        "        # Load metadata of training data.\n",
        "        metadata_path = Path(data_dir) / \"metadata.json\"\n",
        "        metadata = json.load(open(metadata_path))[\"speakers\"]\n",
        "    \n",
        "        # Get the total number of speaker.\n",
        "        self.speaker_num = len(metadata.keys())\n",
        "        self.data = []\n",
        "        for speaker in metadata.keys():\n",
        "            for utterances in metadata[speaker]:\n",
        "                self.data.append([utterances[\"feature_path\"], self.speaker2id[speaker]])\n",
        "    \n",
        "    def __len__(self):\n",
        "        return len(self.data)\n",
        "    \n",
        "    def __getitem__(self, index):\n",
        "        feat_path, speaker = self.data[index]\n",
        "        # Load preprocessed mel-spectrogram.\n",
        "        mel = torch.load(os.path.join(self.data_dir, feat_path))\n",
        "    \n",
        "        # Segmemt mel-spectrogram into \"segment_len\" frames.\n",
        "        if len(mel) > self.segment_len:\n",
        "            # Randomly get the starting point of the segment.\n",
        "            start = random.randint(0, len(mel) - self.segment_len)\n",
        "            # Get a segment with \"segment_len\" frames.\n",
        "            mel = torch.FloatTensor(mel[n])\n",
        "        else:\n",
        "            mel = torch.FloatTensor(mel)\n",
        "        # Turn the speaker id into long for computing loss later.\n",
        "        speaker = torch.FloatTensor([speaker]).long()\n",
        "        return mel, speaker\n",
        "    \n",
        "    def get_speaker_number(self):\n",
        "        return self.speaker_num"
      ]
    },
    {
      "attachments": {},
      "cell_type": "markdown",
      "metadata": {
        "id": "mqJxjoi_NGnB"
      },
      "source": [
        "## Dataloader\n",
        "- Split dataset into training dataset(90%) and validation dataset(10%).\n",
        "- Create dataloader to iterate the data.\n"
      ]
    },
    {
      "cell_type": "code",
      "execution_count": 13,
      "metadata": {
        "id": "zuT1AuFENI8t"
      },
      "outputs": [],
      "source": [
        "import torch\n",
        "from torch.utils.data import DataLoader, random_split\n",
        "from torch.nn.utils.rnn import pad_sequence\n",
        "\n",
        "\n",
        "def collate_batch(batch):\n",
        "    # Process features within a batch.\n",
        "    \"\"\"Collate a batch of data.\"\"\"\n",
        "    mel, speaker = zip(*batch)\n",
        "    # Because we train the model batch by batch, we need to pad the features in the same batch to make their lengths the same.\n",
        "    mel = pad_sequence(mel, batch_first=True, padding_value=-20)    # pad log 10^(-20) which is very small value.\n",
        "    # mel: (batch size, length, 40)\n",
        "    return mel, torch.FloatTensor(speaker).long()\n",
        "\n",
        "\n",
        "def get_dataloader(data_dir, batch_size, n_workers):\n",
        "    \"\"\"Generate dataloader\"\"\"\n",
        "    dataset = myDataset(data_dir)\n",
        "    speaker_num = dataset.get_speaker_number()\n",
        "    # Split dataset into training dataset and validation dataset\n",
        "    trainlen = int(0.9 * len(dataset))\n",
        "    lengths = [trainlen, len(dataset) - trainlen]\n",
        "    trainset, validset = random_split(dataset, lengths)\n",
        "\n",
        "    train_loader = DataLoader(\n",
        "        trainset,\n",
        "        batch_size=batch_size,\n",
        "        shuffle=True,\n",
        "        drop_last=True,\n",
        "        num_workers=n_workers,\n",
        "        pin_memory=True,\n",
        "        collate_fn=collate_batch,\n",
        "    )\n",
        "\n",
        "    valid_loader = DataLoader(\n",
        "        validset,\n",
        "        batch_size=batch_size,\n",
        "        num_workers=n_workers,\n",
        "        drop_last=True,\n",
        "        pin_memory=True,\n",
        "        collate_fn=collate_batch,\n",
        "    )\n",
        "\n",
        "    return train_loader, valid_loader, speaker_num\n"
      ]
    },
    {
      "attachments": {},
      "cell_type": "markdown",
      "metadata": {
        "id": "X0x6eXiHpr4R"
      },
      "source": [
        "# Model\n",
        "- TransformerEncoderLayer:\n",
        "  - Base transformer encoder layer in [Attention Is All You Need](https://arxiv.org/abs/1706.03762)\n",
        "  - Parameters:\n",
        "    - d_model: the number of expected features of the input (required).\n",
        "\n",
        "    - nhead: the number of heads of the multiheadattention models (required).\n",
        "\n",
        "    - dim_feedforward: the dimension of the feedforward network model (default=2048).\n",
        "\n",
        "    - dropout: the dropout value (default=0.1).\n",
        "\n",
        "    - activation: the activation function of intermediate layer, relu or gelu (default=relu).\n",
        "\n",
        "- TransformerEncoder:\n",
        "  - TransformerEncoder is a stack of N transformer encoder layers\n",
        "  - Parameters:\n",
        "    - encoder_layer: an instance of the TransformerEncoderLayer() class (required).\n",
        "\n",
        "    - num_layers: the number of sub-encoder-layers in the encoder (required).\n",
        "\n",
        "    - norm: the layer normalization component (optional)."
      ]
    },
    {
      "cell_type": "code",
      "execution_count": 14,
      "metadata": {
        "id": "SHX4eVj4tjtd"
      },
      "outputs": [],
      "source": [
        "import torch\n",
        "import torch.nn as nn\n",
        "import torch.nn.functional as F\n",
        "from conformer import ConformerBlock\n",
        "\n",
        "# class Self_Attentive_Pooling(nn.Module):\n",
        "#     def __init__(self, batch_rep):\n",
        "#         super(Self_Attentive_Pooling, self).__init__()\n",
        "#         self.W = nn.Linear(batch_rep, 1)\n",
        "    \n",
        "#     def forward(self, batch_rep):\n",
        "#         \"\"\"\n",
        "#         input:\n",
        "#             batch_rep : size (N, T, H), N: batch size, T: sequence length, H: Hidden dimension\n",
        "        \n",
        "#         attention_weight:\n",
        "#             att_w : size (N, T, 1)\n",
        "        \n",
        "#         return:\n",
        "#             utter_rep: size (N, H)\n",
        "#         \"\"\"\n",
        "#         softmax = F.softmax\n",
        "#         att_w = softmax(self.W(batch_rep).squeeze(-1), dim=0).unsqueeze(-1)\n",
        "#         utter_rep = torch.sum(batch_rep * att_w, dim=1)\n",
        "\n",
        "#         return utter_rep\n",
        "\n",
        "class Self_Attention_Pooling(nn.Module):\n",
        "    def __init__(self, dim):\n",
        "        super(Self_Attention_Pooling, self).__init__()\n",
        "        self.sap_linear = nn.Linear(dim, dim)\n",
        "        self.attention = nn.Parameter(torch.FloatTensor(dim, 1))\n",
        "    \n",
        "    def forward(self, x):\n",
        "        \"\"\"\n",
        "        input:\n",
        "            batch_rep : size (N, T, H), N: batch size, T: sequence length, H: Hidden dimension\n",
        "        \n",
        "        attention_weight:\n",
        "            att_w : size (N, T, 1)\n",
        "        \n",
        "        return:\n",
        "            utter_rep: size (N, H)\n",
        "        \"\"\"\n",
        "        x = x.permute(0, 2, 1)\n",
        "        h = torch.tanh(self.sap_linear(x))\n",
        "        w = torch.matmul(h, self.attention).squeeze(dim = 2)\n",
        "        w = F.softmax(w, dim=1).view(x.size(0), x.size(1), 1)\n",
        "        x = torch.sum(x*w, dim=1)\n",
        "\n",
        "        return x\n",
        "\n",
        "class Classifier(nn.Module):\n",
        "    def __init__(self, config, n_spks=600, dropout=0.25):\n",
        "        super().__init__()\n",
        "        # Project the dimension of features from that of input into d_model.\n",
        "        self.prenet = nn.Linear(40, config['dim'])\n",
        "        # TODO:\n",
        "        #   Change Transformer to Conformer.\n",
        "        #   https://arxiv.org/abs/2005.08100\n",
        "        # self.encoder_layer = nn.TransformerEncoderLayer(\n",
        "        #   d_model=d_model, dim_feedforward=256, nhead=2\n",
        "        # )\n",
        "        self.encoder_layer = ConformerBlock(**config)\n",
        "        # self.encoder = nn.TransformerEncoder(self.encoder_layer, num_layers=2)\n",
        "\n",
        "        self.pooling = Self_Attention_Pooling(config['dim'])\n",
        "        # Project the the dimension of features from d_model into speaker nums.\n",
        "        self.pred_layer = nn.Sequential(\n",
        "            # nn.Linear(d_model, d_model),\n",
        "            # nn.ReLU(),\n",
        "            # nn.BatchNorm1d(config['dim']),\n",
        "            nn.Linear(config['dim'], n_spks),\n",
        "        )\n",
        "\n",
        "\n",
        "    def forward(self, mels):\n",
        "        \"\"\"\n",
        "        args:\n",
        "        mels: (batch size, length, 40)\n",
        "        return:\n",
        "        out: (batch size, n_spks)\n",
        "        \"\"\"\n",
        "        # out: (batch size, length, d_model)\n",
        "        out = self.prenet(mels)\n",
        "        # out: (length, batch size, d_model)\n",
        "        out = out.permute(1, 0, 2)\n",
        "        # The encoder layer expect features in the shape of (length, batch size, d_model).\n",
        "        out = self.encoder_layer(out)\n",
        "        # out: (batch size, length, d_model)\n",
        "        # out = out.transpose(0, 1)\n",
        "        # mean pooling\n",
        "        # stats = out.mean(dim=1)\n",
        "        out = out.permute(1, 2, 0)  \n",
        "        stats = self.pooling(out)\n",
        "\n",
        "        # out: (batch, n_spks)\n",
        "        out = self.pred_layer(stats)\n",
        "        return out\n"
      ]
    },
    {
      "attachments": {},
      "cell_type": "markdown",
      "metadata": {
        "id": "-__DolPGpvDZ"
      },
      "source": [
        "# Learning rate schedule\n",
        "- For transformer architecture, the design of learning rate schedule is different from that of CNN.\n",
        "- Previous works show that the warmup of learning rate is useful for training models with transformer architectures.\n",
        "- The warmup schedule\n",
        "  - Set learning rate to 0 in the beginning.\n",
        "  - The learning rate increases linearly from 0 to initial learning rate during warmup period."
      ]
    },
    {
      "cell_type": "code",
      "execution_count": 15,
      "metadata": {
        "id": "K-0816BntqT9"
      },
      "outputs": [],
      "source": [
        "import math\n",
        "import torch\n",
        "from torch.optim import Optimizer\n",
        "from torch.optim.lr_scheduler import LambdaLR\n",
        "\n",
        "\n",
        "def get_cosine_schedule_with_warmup(\n",
        "    optimizer: Optimizer,\n",
        "    num_warmup_steps: int,\n",
        "    num_training_steps: int,\n",
        "    num_cycles: float = 0.5,\n",
        "    last_epoch: int = -1,\n",
        "):\n",
        "    \"\"\"\n",
        "    Create a schedule with a learning rate that decreases following the values of the cosine function between the\n",
        "    initial lr set in the optimizer to 0, after a warmup period during which it increases linearly between 0 and the\n",
        "    initial lr set in the optimizer.\n",
        "\n",
        "    Args:\n",
        "        optimizer (:class:`~torch.optim.Optimizer`):\n",
        "        The optimizer for which to schedule the learning rate.\n",
        "        num_warmup_steps (:obj:`int`):\n",
        "        The number of steps for the warmup phase.\n",
        "        num_training_steps (:obj:`int`):\n",
        "        The total number of training steps.\n",
        "        num_cycles (:obj:`float`, `optional`, defaults to 0.5):\n",
        "        The number of waves in the cosine schedule (the defaults is to just decrease from the max value to 0\n",
        "        following a half-cosine).\n",
        "        last_epoch (:obj:`int`, `optional`, defaults to -1):\n",
        "        The index of the last epoch when resuming training.\n",
        "\n",
        "    Return:\n",
        "        :obj:`torch.optim.lr_scheduler.LambdaLR` with the appropriate schedule.\n",
        "    \"\"\"\n",
        "\n",
        "    def lr_lambda(current_step):\n",
        "        # Warmup\n",
        "        if current_step < num_warmup_steps:\n",
        "            return float(current_step) / float(max(1, num_warmup_steps))\n",
        "        # decadence\n",
        "        progress = float(current_step - num_warmup_steps) / float(\n",
        "        max(1, num_training_steps - num_warmup_steps)\n",
        "        )\n",
        "        return max(\n",
        "        0.0, 0.5 * (1.0 + math.cos(math.pi * float(num_cycles) * 2.0 * progress))\n",
        "        )\n",
        "\n",
        "    return LambdaLR(optimizer, lr_lambda, last_epoch)\n"
      ]
    },
    {
      "attachments": {},
      "cell_type": "markdown",
      "metadata": {
        "id": "IP03FFo9K8DS"
      },
      "source": [
        "# Model Function\n",
        "- Model forward function."
      ]
    },
    {
      "cell_type": "code",
      "execution_count": 16,
      "metadata": {
        "id": "fohaLEFJK9-t"
      },
      "outputs": [],
      "source": [
        "import torch\n",
        "\n",
        "\n",
        "def model_fn(batch, model, criterion, device):\n",
        "    \"\"\"Forward a batch through the model.\"\"\"\n",
        "\n",
        "    mels, labels = batch\n",
        "    mels = mels.to(device)\n",
        "    labels = labels.to(device)\n",
        "\n",
        "    outs = model(mels)\n",
        "\n",
        "    loss = criterion(outs, labels)\n",
        "\n",
        "    # Get the speaker id with highest probability.\n",
        "    preds = outs.argmax(1)\n",
        "    # Compute accuracy.\n",
        "    accuracy = torch.mean((preds == labels).float())\n",
        "\n",
        "    return loss, accuracy\n"
      ]
    },
    {
      "attachments": {},
      "cell_type": "markdown",
      "metadata": {
        "id": "F7cg-YrzLQcf"
      },
      "source": [
        "# Validate\n",
        "- Calculate accuracy of the validation set."
      ]
    },
    {
      "cell_type": "code",
      "execution_count": 17,
      "metadata": {
        "id": "mD-_p6nWLO2L"
      },
      "outputs": [],
      "source": [
        "from tqdm import tqdm\n",
        "import torch\n",
        "\n",
        "\n",
        "def valid(dataloader, model, criterion, device): \n",
        "    \"\"\"Validate on validation set.\"\"\"\n",
        "\n",
        "    model.eval()\n",
        "    running_loss = 0.0\n",
        "    running_accuracy = 0.0\n",
        "    pbar = tqdm(total=len(dataloader.dataset), ncols=0, desc=\"Valid\", unit=\" uttr\")\n",
        "\n",
        "    for i, batch in enumerate(dataloader):\n",
        "        with torch.no_grad():\n",
        "            loss, accuracy = model_fn(batch, model, criterion, device)\n",
        "            running_loss += loss.item()\n",
        "            running_accuracy += accuracy.item()\n",
        "\n",
        "        pbar.update(dataloader.batch_size)\n",
        "        pbar.set_postfix(\n",
        "        loss=f\"{running_loss / (i+1):.2f}\",\n",
        "        accuracy=f\"{running_accuracy / (i+1):.2f}\",\n",
        "        )\n",
        "\n",
        "    pbar.close()\n",
        "    model.train()\n",
        "\n",
        "    return running_accuracy / len(dataloader)\n"
      ]
    },
    {
      "attachments": {},
      "cell_type": "markdown",
      "metadata": {
        "id": "noHXyal5p1W5"
      },
      "source": [
        "# Main function"
      ]
    },
    {
      "cell_type": "code",
      "execution_count": 18,
      "metadata": {
        "colab": {
          "base_uri": "https://localhost:8080/"
        },
        "id": "chRQE7oYtw62",
        "outputId": "83ddc97a-05df-474b-c972-15b92823b983"
      },
      "outputs": [
        {
          "name": "stdout",
          "output_type": "stream",
          "text": [
            "[Info]: Use Model-config1 now!\n",
            "[Info]: Use cuda now!\n",
            "[Info]: Finish loading data!\n",
            "[Info]: Finish creating model!\n"
          ]
        },
        {
          "name": "stderr",
          "output_type": "stream",
          "text": [
            "Train: 100% 2000/2000 [00:56<00:00, 35.10 step/s, accuracy=0.00, loss=5.99, step=2000]\n",
            "Valid: 100% 6336/6344 [00:04<00:00, 1503.30 uttr/s, accuracy=0.04, loss=5.68]\n",
            "Train: 100% 2000/2000 [00:55<00:00, 35.99 step/s, accuracy=0.09, loss=5.47, step=4000]\n",
            "Valid: 100% 6336/6344 [00:03<00:00, 1600.24 uttr/s, accuracy=0.09, loss=5.11]\n",
            "Train: 100% 2000/2000 [00:56<00:00, 35.54 step/s, accuracy=0.22, loss=4.50, step=6000]\n",
            "Valid: 100% 6336/6344 [00:03<00:00, 1630.22 uttr/s, accuracy=0.12, loss=4.76]\n",
            "Train: 100% 2000/2000 [00:55<00:00, 36.06 step/s, accuracy=0.12, loss=4.69, step=8000]\n",
            "Valid: 100% 6336/6344 [00:03<00:00, 1617.35 uttr/s, accuracy=0.16, loss=4.40]\n",
            "Train: 100% 2000/2000 [00:55<00:00, 35.96 step/s, accuracy=0.06, loss=4.26, step=1e+4]\n",
            "Valid: 100% 6336/6344 [00:03<00:00, 1617.35 uttr/s, accuracy=0.18, loss=4.26]\n",
            "Train:   0% 6/2000 [00:00<01:14, 26.76 step/s, accuracy=0.19, loss=3.96, step=1e+4]"
          ]
        },
        {
          "name": "stdout",
          "output_type": "stream",
          "text": [
            "Step 10000, best model saved. (accuracy=0.1755)\n"
          ]
        },
        {
          "name": "stderr",
          "output_type": "stream",
          "text": [
            "Train: 100% 2000/2000 [00:55<00:00, 35.95 step/s, accuracy=0.16, loss=4.36, step=12000]\n",
            "Valid: 100% 6336/6344 [00:03<00:00, 1633.15 uttr/s, accuracy=0.19, loss=4.12]\n",
            "Train: 100% 2000/2000 [00:55<00:00, 35.87 step/s, accuracy=0.22, loss=3.82, step=14000]\n",
            "Valid: 100% 6336/6344 [00:03<00:00, 1636.09 uttr/s, accuracy=0.20, loss=4.02]\n",
            "Train: 100% 2000/2000 [00:56<00:00, 35.09 step/s, accuracy=0.19, loss=4.41, step=16000]\n",
            "Valid: 100% 6336/6344 [00:03<00:00, 1635.25 uttr/s, accuracy=0.23, loss=3.89]\n",
            "Train: 100% 2000/2000 [00:55<00:00, 35.88 step/s, accuracy=0.06, loss=4.12, step=18000]\n",
            "Valid: 100% 6336/6344 [00:03<00:00, 1623.96 uttr/s, accuracy=0.23, loss=3.84]\n",
            "Train: 100% 2000/2000 [00:55<00:00, 35.96 step/s, accuracy=0.22, loss=3.86, step=2e+4] \n",
            "Valid: 100% 6336/6344 [00:03<00:00, 1625.21 uttr/s, accuracy=0.23, loss=3.87]\n",
            "Train:   0% 7/2000 [00:00<01:06, 29.94 step/s, accuracy=0.44, loss=3.20, step=2e+4]"
          ]
        },
        {
          "name": "stdout",
          "output_type": "stream",
          "text": [
            "Step 20000, best model saved. (accuracy=0.2322)\n"
          ]
        },
        {
          "name": "stderr",
          "output_type": "stream",
          "text": [
            "Train: 100% 2000/2000 [00:55<00:00, 35.91 step/s, accuracy=0.25, loss=3.47, step=22000]\n",
            "Valid: 100% 6336/6344 [00:03<00:00, 1626.04 uttr/s, accuracy=0.25, loss=3.73]\n",
            "Train: 100% 2000/2000 [00:55<00:00, 35.99 step/s, accuracy=0.31, loss=3.32, step=24000]\n",
            "Valid: 100% 6336/6344 [00:03<00:00, 1613.65 uttr/s, accuracy=0.26, loss=3.69]\n",
            "Train: 100% 2000/2000 [00:55<00:00, 35.95 step/s, accuracy=0.16, loss=3.48, step=26000]\n",
            "Valid: 100% 6336/6344 [00:03<00:00, 1611.60 uttr/s, accuracy=0.26, loss=3.69]\n",
            "Train: 100% 2000/2000 [00:55<00:00, 35.96 step/s, accuracy=0.28, loss=2.83, step=28000]\n",
            "Valid: 100% 6336/6344 [00:03<00:00, 1612.42 uttr/s, accuracy=0.26, loss=3.62]\n",
            "Train: 100% 2000/2000 [00:55<00:00, 35.87 step/s, accuracy=0.34, loss=3.44, step=3e+4] \n",
            "Valid: 100% 6336/6344 [00:03<00:00, 1599.43 uttr/s, accuracy=0.28, loss=3.57]\n",
            "Train:   0% 7/2000 [00:00<01:04, 30.69 step/s, accuracy=0.28, loss=3.93, step=3e+4]"
          ]
        },
        {
          "name": "stdout",
          "output_type": "stream",
          "text": [
            "Step 30000, best model saved. (accuracy=0.2751)\n"
          ]
        },
        {
          "name": "stderr",
          "output_type": "stream",
          "text": [
            "Train: 100% 2000/2000 [00:55<00:00, 36.03 step/s, accuracy=0.41, loss=2.86, step=32000]\n",
            "Valid: 100% 6336/6344 [00:03<00:00, 1584.67 uttr/s, accuracy=0.28, loss=3.53]\n",
            "Train: 100% 2000/2000 [00:55<00:00, 36.13 step/s, accuracy=0.38, loss=2.88, step=34000]\n",
            "Valid: 100% 6336/6344 [00:03<00:00, 1648.83 uttr/s, accuracy=0.27, loss=3.65]\n",
            "Train: 100% 2000/2000 [00:56<00:00, 35.47 step/s, accuracy=0.53, loss=2.70, step=36000]\n",
            "Valid: 100% 6336/6344 [00:03<00:00, 1639.47 uttr/s, accuracy=0.28, loss=3.54]\n",
            "Train: 100% 2000/2000 [00:55<00:00, 36.09 step/s, accuracy=0.38, loss=2.83, step=38000]\n",
            "Valid: 100% 6336/6344 [00:03<00:00, 1637.36 uttr/s, accuracy=0.27, loss=3.58]\n",
            "Train: 100% 2000/2000 [00:55<00:00, 36.19 step/s, accuracy=0.22, loss=3.83, step=4e+4] \n",
            "Valid: 100% 6336/6344 [00:03<00:00, 1637.78 uttr/s, accuracy=0.28, loss=3.56]\n",
            "Train:   0% 7/2000 [00:00<01:05, 30.44 step/s, accuracy=0.31, loss=3.63, step=4e+4]"
          ]
        },
        {
          "name": "stdout",
          "output_type": "stream",
          "text": [
            "Step 40000, best model saved. (accuracy=0.2831)\n"
          ]
        },
        {
          "name": "stderr",
          "output_type": "stream",
          "text": [
            "Train: 100% 2000/2000 [00:55<00:00, 35.79 step/s, accuracy=0.28, loss=3.27, step=42000]\n",
            "Valid: 100% 6336/6344 [00:03<00:00, 1614.47 uttr/s, accuracy=0.29, loss=3.48]\n",
            "Train: 100% 2000/2000 [00:55<00:00, 36.14 step/s, accuracy=0.31, loss=3.10, step=44000]\n",
            "Valid: 100% 6336/6344 [00:03<00:00, 1625.21 uttr/s, accuracy=0.30, loss=3.43]\n",
            "Train: 100% 2000/2000 [00:55<00:00, 35.90 step/s, accuracy=0.22, loss=3.35, step=46000]\n",
            "Valid: 100% 6336/6344 [00:03<00:00, 1597.82 uttr/s, accuracy=0.28, loss=3.52]\n",
            "Train: 100% 2000/2000 [00:55<00:00, 36.03 step/s, accuracy=0.25, loss=3.84, step=48000]\n",
            "Valid: 100% 6336/6344 [00:03<00:00, 1600.24 uttr/s, accuracy=0.30, loss=3.44]\n",
            "Train: 100% 2000/2000 [00:55<00:00, 35.98 step/s, accuracy=0.44, loss=2.64, step=5e+4] \n",
            "Valid: 100% 6336/6344 [00:03<00:00, 1630.21 uttr/s, accuracy=0.29, loss=3.48]\n",
            "Train:   0% 7/2000 [00:00<01:05, 30.23 step/s, accuracy=0.44, loss=3.09, step=5e+4]"
          ]
        },
        {
          "name": "stdout",
          "output_type": "stream",
          "text": [
            "Step 50000, best model saved. (accuracy=0.2985)\n"
          ]
        },
        {
          "name": "stderr",
          "output_type": "stream",
          "text": [
            "Train: 100% 2000/2000 [00:55<00:00, 36.04 step/s, accuracy=0.25, loss=3.55, step=52000]\n",
            "Valid: 100% 6336/6344 [00:03<00:00, 1617.35 uttr/s, accuracy=0.29, loss=3.44]\n",
            "Train: 100% 2000/2000 [00:55<00:00, 36.00 step/s, accuracy=0.31, loss=2.93, step=54000]\n",
            "Valid: 100% 6336/6344 [00:03<00:00, 1647.54 uttr/s, accuracy=0.30, loss=3.44]\n",
            "Train: 100% 2000/2000 [00:56<00:00, 35.23 step/s, accuracy=0.25, loss=3.55, step=56000]\n",
            "Valid: 100% 6336/6344 [00:03<00:00, 1625.62 uttr/s, accuracy=0.31, loss=3.37]\n",
            "Train: 100% 2000/2000 [00:55<00:00, 36.02 step/s, accuracy=0.47, loss=2.86, step=58000]\n",
            "Valid: 100% 6336/6344 [00:03<00:00, 1627.29 uttr/s, accuracy=0.30, loss=3.47]\n",
            "Train: 100% 2000/2000 [00:55<00:00, 36.00 step/s, accuracy=0.34, loss=3.12, step=6e+4] \n",
            "Valid: 100% 6336/6344 [00:03<00:00, 1602.25 uttr/s, accuracy=0.30, loss=3.41]\n",
            "Train:   0% 7/2000 [00:00<01:08, 29.19 step/s, accuracy=0.38, loss=2.68, step=6e+4]"
          ]
        },
        {
          "name": "stdout",
          "output_type": "stream",
          "text": [
            "Step 60000, best model saved. (accuracy=0.3109)\n"
          ]
        },
        {
          "name": "stderr",
          "output_type": "stream",
          "text": [
            "Train: 100% 2000/2000 [00:55<00:00, 35.98 step/s, accuracy=0.31, loss=2.89, step=62000]\n",
            "Valid: 100% 6336/6344 [00:03<00:00, 1628.12 uttr/s, accuracy=0.29, loss=3.47]\n",
            "Train: 100% 2000/2000 [00:55<00:00, 36.05 step/s, accuracy=0.38, loss=3.22, step=64000]\n",
            "Valid: 100% 6336/6344 [00:03<00:00, 1614.47 uttr/s, accuracy=0.30, loss=3.40]\n",
            "Train: 100% 2000/2000 [00:55<00:00, 36.11 step/s, accuracy=0.31, loss=3.52, step=66000]\n",
            "Valid: 100% 6336/6344 [00:03<00:00, 1588.23 uttr/s, accuracy=0.31, loss=3.39]\n",
            "Train: 100% 2000/2000 [00:55<00:00, 36.15 step/s, accuracy=0.38, loss=3.06, step=68000]\n",
            "Valid: 100% 6336/6344 [00:03<00:00, 1615.29 uttr/s, accuracy=0.30, loss=3.45]\n",
            "Train: 100% 2000/2000 [00:55<00:00, 35.97 step/s, accuracy=0.38, loss=2.79, step=7e+4] \n",
            "Valid: 100% 6336/6344 [00:03<00:00, 1637.36 uttr/s, accuracy=0.30, loss=3.47]\n",
            "Train:   0% 7/2000 [00:00<01:05, 30.60 step/s, accuracy=0.28, loss=3.15, step=7e+4]"
          ]
        },
        {
          "name": "stdout",
          "output_type": "stream",
          "text": [
            "Step 70000, best model saved. (accuracy=0.3109)\n"
          ]
        },
        {
          "name": "stderr",
          "output_type": "stream",
          "text": [
            "Train: 100% 2000/2000 [00:55<00:00, 36.06 step/s, accuracy=0.34, loss=2.68, step=72000]\n",
            "Valid: 100% 6336/6344 [00:03<00:00, 1623.55 uttr/s, accuracy=0.31, loss=3.41]\n",
            "Train: 100% 2000/2000 [00:55<00:00, 36.04 step/s, accuracy=0.34, loss=2.83, step=74000]\n",
            "Valid: 100% 6336/6344 [00:03<00:00, 1612.01 uttr/s, accuracy=0.31, loss=3.37]\n",
            "Train: 100% 2000/2000 [00:58<00:00, 34.33 step/s, accuracy=0.38, loss=2.71, step=76000]\n",
            "Valid: 100% 6336/6344 [00:03<00:00, 1619.41 uttr/s, accuracy=0.32, loss=3.26]\n",
            "Train: 100% 2000/2000 [00:55<00:00, 36.07 step/s, accuracy=0.41, loss=2.79, step=78000]\n",
            "Valid: 100% 6336/6344 [00:03<00:00, 1623.13 uttr/s, accuracy=0.33, loss=3.29]\n",
            "Train: 100% 2000/2000 [00:55<00:00, 36.05 step/s, accuracy=0.31, loss=3.47, step=8e+4] \n",
            "Valid: 100% 6336/6344 [00:03<00:00, 1638.20 uttr/s, accuracy=0.31, loss=3.38]\n",
            "Train:   0% 7/2000 [00:00<01:07, 29.31 step/s, accuracy=0.34, loss=2.63, step=8e+4]"
          ]
        },
        {
          "name": "stdout",
          "output_type": "stream",
          "text": [
            "Step 80000, best model saved. (accuracy=0.3253)\n"
          ]
        },
        {
          "name": "stderr",
          "output_type": "stream",
          "text": [
            "Train: 100% 2000/2000 [00:55<00:00, 36.03 step/s, accuracy=0.25, loss=3.07, step=82000]\n",
            "Valid: 100% 6336/6344 [00:03<00:00, 1592.61 uttr/s, accuracy=0.32, loss=3.32]\n",
            "Train: 100% 2000/2000 [00:55<00:00, 35.96 step/s, accuracy=0.41, loss=3.42, step=84000]\n",
            "Valid: 100% 6336/6344 [00:03<00:00, 1637.36 uttr/s, accuracy=0.31, loss=3.39]\n",
            "Train: 100% 2000/2000 [00:55<00:00, 36.06 step/s, accuracy=0.31, loss=2.55, step=86000]\n",
            "Valid: 100% 6336/6344 [00:03<00:00, 1624.38 uttr/s, accuracy=0.32, loss=3.33]\n",
            "Train: 100% 2000/2000 [00:55<00:00, 35.98 step/s, accuracy=0.31, loss=3.36, step=88000]\n",
            "Valid: 100% 6336/6344 [00:03<00:00, 1609.97 uttr/s, accuracy=0.33, loss=3.30]\n",
            "Train: 100% 2000/2000 [00:55<00:00, 35.96 step/s, accuracy=0.25, loss=3.32, step=9e+4] \n",
            "Valid: 100% 6336/6344 [00:03<00:00, 1608.34 uttr/s, accuracy=0.32, loss=3.33]\n",
            "Train:   0% 7/2000 [00:00<01:06, 29.80 step/s, accuracy=0.47, loss=2.41, step=9e+4]"
          ]
        },
        {
          "name": "stdout",
          "output_type": "stream",
          "text": [
            "Step 90000, best model saved. (accuracy=0.3261)\n"
          ]
        },
        {
          "name": "stderr",
          "output_type": "stream",
          "text": [
            "Train: 100% 2000/2000 [00:55<00:00, 35.94 step/s, accuracy=0.47, loss=2.53, step=92000]\n",
            "Valid: 100% 6336/6344 [00:03<00:00, 1642.86 uttr/s, accuracy=0.32, loss=3.35]\n",
            "Train: 100% 2000/2000 [00:55<00:00, 36.06 step/s, accuracy=0.47, loss=2.45, step=94000]\n",
            "Valid: 100% 6336/6344 [00:03<00:00, 1613.65 uttr/s, accuracy=0.33, loss=3.30]\n",
            "Train: 100% 2000/2000 [00:56<00:00, 35.28 step/s, accuracy=0.41, loss=2.50, step=96000]\n",
            "Valid: 100% 6336/6344 [00:03<00:00, 1592.61 uttr/s, accuracy=0.32, loss=3.28]\n",
            "Train: 100% 2000/2000 [00:55<00:00, 36.00 step/s, accuracy=0.41, loss=2.37, step=98000]\n",
            "Valid: 100% 6336/6344 [00:04<00:00, 1561.69 uttr/s, accuracy=0.33, loss=3.30]\n",
            "Train: 100% 2000/2000 [00:55<00:00, 35.84 step/s, accuracy=0.50, loss=2.30, step=1e+5] \n",
            "Valid: 100% 6336/6344 [00:03<00:00, 1595.41 uttr/s, accuracy=0.32, loss=3.40]\n",
            "Train:   0% 7/2000 [00:00<01:06, 29.94 step/s, accuracy=0.62, loss=2.28, step=1e+5]"
          ]
        },
        {
          "name": "stdout",
          "output_type": "stream",
          "text": [
            "Step 100000, best model saved. (accuracy=0.3314)\n"
          ]
        },
        {
          "name": "stderr",
          "output_type": "stream",
          "text": [
            "Train: 100% 2000/2000 [00:55<00:00, 36.14 step/s, accuracy=0.47, loss=2.20, step=102000]\n",
            "Valid: 100% 6336/6344 [00:04<00:00, 1570.95 uttr/s, accuracy=0.33, loss=3.34]\n",
            "Train: 100% 2000/2000 [00:55<00:00, 36.14 step/s, accuracy=0.44, loss=2.42, step=104000]\n",
            "Valid: 100% 6336/6344 [00:03<00:00, 1628.11 uttr/s, accuracy=0.32, loss=3.33]\n",
            "Train: 100% 2000/2000 [00:55<00:00, 36.22 step/s, accuracy=0.47, loss=2.41, step=106000]\n",
            "Valid: 100% 6336/6344 [00:03<00:00, 1635.25 uttr/s, accuracy=0.33, loss=3.34]\n",
            "Train: 100% 2000/2000 [00:55<00:00, 36.14 step/s, accuracy=0.41, loss=2.56, step=108000]\n",
            "Valid: 100% 6336/6344 [00:03<00:00, 1621.89 uttr/s, accuracy=0.33, loss=3.29]\n",
            "Train: 100% 2000/2000 [00:55<00:00, 36.18 step/s, accuracy=0.44, loss=2.78, step=110000]\n",
            "Valid: 100% 6336/6344 [00:03<00:00, 1606.31 uttr/s, accuracy=0.33, loss=3.33]\n",
            "Train:   0% 7/2000 [00:00<01:05, 30.40 step/s, accuracy=0.34, loss=2.91, step=110006]"
          ]
        },
        {
          "name": "stdout",
          "output_type": "stream",
          "text": [
            "Step 110000, best model saved. (accuracy=0.3314)\n"
          ]
        },
        {
          "name": "stderr",
          "output_type": "stream",
          "text": [
            "Train: 100% 2000/2000 [00:55<00:00, 36.13 step/s, accuracy=0.47, loss=2.15, step=112000]\n",
            "Valid: 100% 6336/6344 [00:03<00:00, 1597.42 uttr/s, accuracy=0.33, loss=3.32]\n",
            "Train: 100% 2000/2000 [00:55<00:00, 36.10 step/s, accuracy=0.41, loss=2.40, step=114000]\n",
            "Valid: 100% 6336/6344 [00:04<00:00, 1576.02 uttr/s, accuracy=0.32, loss=3.31]\n",
            "Train: 100% 2000/2000 [00:56<00:00, 35.24 step/s, accuracy=0.47, loss=2.88, step=116000]\n",
            "Valid: 100% 6336/6344 [00:04<00:00, 1572.12 uttr/s, accuracy=0.32, loss=3.37]\n",
            "Train: 100% 2000/2000 [00:55<00:00, 36.11 step/s, accuracy=0.38, loss=2.66, step=118000]\n",
            "Valid: 100% 6336/6344 [00:03<00:00, 1619.00 uttr/s, accuracy=0.32, loss=3.37]\n",
            "Train: 100% 2000/2000 [00:55<00:00, 35.90 step/s, accuracy=0.28, loss=3.33, step=120000]\n",
            "Valid: 100% 6336/6344 [00:03<00:00, 1635.67 uttr/s, accuracy=0.31, loss=3.38]\n",
            "Train:   0% 7/2000 [00:00<01:06, 30.09 step/s, accuracy=0.59, loss=1.83, step=120006]"
          ]
        },
        {
          "name": "stdout",
          "output_type": "stream",
          "text": [
            "Step 120000, best model saved. (accuracy=0.3314)\n"
          ]
        },
        {
          "name": "stderr",
          "output_type": "stream",
          "text": [
            "Train: 100% 2000/2000 [00:56<00:00, 35.66 step/s, accuracy=0.53, loss=2.49, step=122000]\n",
            "Valid: 100% 6336/6344 [00:03<00:00, 1620.23 uttr/s, accuracy=0.32, loss=3.37]\n",
            "Train: 100% 2000/2000 [00:57<00:00, 35.08 step/s, accuracy=0.41, loss=2.74, step=124000]\n",
            "Valid: 100% 6336/6344 [00:04<00:00, 1466.51 uttr/s, accuracy=0.32, loss=3.37]\n",
            "Train: 100% 2000/2000 [00:56<00:00, 35.65 step/s, accuracy=0.53, loss=2.19, step=126000]\n",
            "Valid: 100% 6336/6344 [00:03<00:00, 1633.15 uttr/s, accuracy=0.32, loss=3.35]\n",
            "Train: 100% 2000/2000 [00:55<00:00, 35.95 step/s, accuracy=0.53, loss=2.19, step=128000]\n",
            "Valid: 100% 6336/6344 [00:03<00:00, 1593.40 uttr/s, accuracy=0.34, loss=3.29]\n",
            "Train: 100% 2000/2000 [00:55<00:00, 35.98 step/s, accuracy=0.56, loss=1.87, step=130000]\n",
            "Valid: 100% 6336/6344 [00:03<00:00, 1630.63 uttr/s, accuracy=0.33, loss=3.32]\n",
            "Train:   0% 7/2000 [00:00<01:07, 29.46 step/s, accuracy=0.47, loss=2.38, step=130006]"
          ]
        },
        {
          "name": "stdout",
          "output_type": "stream",
          "text": [
            "Step 130000, best model saved. (accuracy=0.3403)\n"
          ]
        },
        {
          "name": "stderr",
          "output_type": "stream",
          "text": [
            "Train: 100% 2000/2000 [00:55<00:00, 35.95 step/s, accuracy=0.28, loss=2.72, step=132000]\n",
            "Valid: 100% 6336/6344 [00:03<00:00, 1644.56 uttr/s, accuracy=0.32, loss=3.36]\n",
            "Train: 100% 2000/2000 [00:55<00:00, 36.02 step/s, accuracy=0.56, loss=1.98, step=134000]\n",
            "Valid: 100% 6336/6344 [00:03<00:00, 1628.95 uttr/s, accuracy=0.34, loss=3.35]\n",
            "Train: 100% 2000/2000 [00:56<00:00, 35.17 step/s, accuracy=0.47, loss=2.44, step=136000]\n",
            "Valid: 100% 6336/6344 [00:03<00:00, 1623.55 uttr/s, accuracy=0.32, loss=3.42]\n",
            "Train: 100% 2000/2000 [00:55<00:00, 36.03 step/s, accuracy=0.50, loss=1.91, step=138000]\n",
            "Valid: 100% 6336/6344 [00:03<00:00, 1623.96 uttr/s, accuracy=0.34, loss=3.25]\n",
            "Train: 100% 2000/2000 [00:55<00:00, 36.01 step/s, accuracy=0.41, loss=3.06, step=140000]\n",
            "Valid: 100% 6336/6344 [00:03<00:00, 1628.54 uttr/s, accuracy=0.33, loss=3.30]\n",
            "Train:   0% 7/2000 [00:00<01:08, 28.89 step/s, accuracy=0.47, loss=2.50, step=140007]"
          ]
        },
        {
          "name": "stdout",
          "output_type": "stream",
          "text": [
            "Step 140000, best model saved. (accuracy=0.3442)\n"
          ]
        },
        {
          "name": "stderr",
          "output_type": "stream",
          "text": [
            "Train: 100% 2000/2000 [00:55<00:00, 35.98 step/s, accuracy=0.66, loss=1.90, step=142000]\n",
            "Valid: 100% 6336/6344 [00:03<00:00, 1626.04 uttr/s, accuracy=0.33, loss=3.29]\n",
            "Train: 100% 2000/2000 [00:55<00:00, 36.06 step/s, accuracy=0.34, loss=3.42, step=144000]\n",
            "Valid: 100% 6336/6344 [00:03<00:00, 1620.65 uttr/s, accuracy=0.33, loss=3.31]\n",
            "Train: 100% 2000/2000 [00:55<00:00, 36.02 step/s, accuracy=0.28, loss=3.13, step=146000]\n",
            "Valid: 100% 6336/6344 [00:03<00:00, 1587.84 uttr/s, accuracy=0.34, loss=3.34]\n",
            "Train: 100% 2000/2000 [00:55<00:00, 36.04 step/s, accuracy=0.44, loss=2.14, step=148000]\n",
            "Valid: 100% 6336/6344 [00:03<00:00, 1613.64 uttr/s, accuracy=0.33, loss=3.32]\n",
            "Train: 100% 2000/2000 [00:55<00:00, 35.98 step/s, accuracy=0.31, loss=3.18, step=150000]\n",
            "Valid: 100% 6336/6344 [00:03<00:00, 1631.04 uttr/s, accuracy=0.33, loss=3.35]\n",
            "Train:   0% 7/2000 [00:00<01:07, 29.31 step/s, accuracy=0.59, loss=2.00, step=150007]"
          ]
        },
        {
          "name": "stdout",
          "output_type": "stream",
          "text": [
            "Step 150000, best model saved. (accuracy=0.3442)\n"
          ]
        },
        {
          "name": "stderr",
          "output_type": "stream",
          "text": [
            "Train: 100% 2000/2000 [00:55<00:00, 35.99 step/s, accuracy=0.47, loss=2.25, step=152000]\n",
            "Valid: 100% 6336/6344 [00:03<00:00, 1626.87 uttr/s, accuracy=0.33, loss=3.35]\n",
            "Train: 100% 2000/2000 [00:55<00:00, 35.98 step/s, accuracy=0.56, loss=2.05, step=154000]\n",
            "Valid: 100% 6336/6344 [00:03<00:00, 1613.24 uttr/s, accuracy=0.33, loss=3.38]\n",
            "Train: 100% 2000/2000 [00:56<00:00, 35.28 step/s, accuracy=0.59, loss=1.96, step=156000]\n",
            "Valid: 100% 6336/6344 [00:03<00:00, 1628.54 uttr/s, accuracy=0.33, loss=3.36]\n",
            "Train: 100% 2000/2000 [00:55<00:00, 35.89 step/s, accuracy=0.31, loss=3.26, step=158000]\n",
            "Valid: 100% 6336/6344 [00:03<00:00, 1587.84 uttr/s, accuracy=0.32, loss=3.35]\n",
            "Train: 100% 2000/2000 [00:55<00:00, 35.95 step/s, accuracy=0.59, loss=1.57, step=160000]\n",
            "Valid: 100% 6336/6344 [00:03<00:00, 1636.92 uttr/s, accuracy=0.34, loss=3.30]\n",
            "Train:   0% 7/2000 [00:00<01:06, 29.80 step/s, accuracy=0.50, loss=2.31, step=160007]"
          ]
        },
        {
          "name": "stdout",
          "output_type": "stream",
          "text": [
            "Step 160000, best model saved. (accuracy=0.3442)\n"
          ]
        },
        {
          "name": "stderr",
          "output_type": "stream",
          "text": [
            "Train: 100% 2000/2000 [00:55<00:00, 35.96 step/s, accuracy=0.59, loss=1.96, step=162000]\n",
            "Valid: 100% 6336/6344 [00:03<00:00, 1609.15 uttr/s, accuracy=0.33, loss=3.31]\n",
            "Train: 100% 2000/2000 [00:56<00:00, 35.31 step/s, accuracy=0.41, loss=2.14, step=164000]\n",
            "Valid: 100% 6336/6344 [00:03<00:00, 1593.41 uttr/s, accuracy=0.33, loss=3.39]\n",
            "Train: 100% 2000/2000 [00:55<00:00, 35.91 step/s, accuracy=0.38, loss=2.88, step=166000]\n",
            "Valid: 100% 6336/6344 [00:04<00:00, 1578.76 uttr/s, accuracy=0.33, loss=3.35]\n",
            "Train: 100% 2000/2000 [00:55<00:00, 36.07 step/s, accuracy=0.62, loss=1.79, step=168000]\n",
            "Valid: 100% 6336/6344 [00:03<00:00, 1623.55 uttr/s, accuracy=0.33, loss=3.38]\n",
            "Train: 100% 2000/2000 [00:55<00:00, 36.14 step/s, accuracy=0.44, loss=2.56, step=170000]\n",
            "Valid: 100% 6336/6344 [00:03<00:00, 1628.12 uttr/s, accuracy=0.33, loss=3.36]\n",
            "Train:   0% 7/2000 [00:00<01:05, 30.34 step/s, accuracy=0.50, loss=2.13, step=170006]"
          ]
        },
        {
          "name": "stdout",
          "output_type": "stream",
          "text": [
            "Step 170000, best model saved. (accuracy=0.3442)\n"
          ]
        },
        {
          "name": "stderr",
          "output_type": "stream",
          "text": [
            "Train: 100% 2000/2000 [00:55<00:00, 36.13 step/s, accuracy=0.53, loss=2.01, step=172000]\n",
            "Valid: 100% 6336/6344 [00:04<00:00, 1579.55 uttr/s, accuracy=0.32, loss=3.40]\n",
            "Train: 100% 2000/2000 [00:55<00:00, 36.17 step/s, accuracy=0.47, loss=2.09, step=174000]\n",
            "Valid: 100% 6336/6344 [00:04<00:00, 1573.68 uttr/s, accuracy=0.33, loss=3.35]\n",
            "Train: 100% 2000/2000 [00:56<00:00, 35.38 step/s, accuracy=0.44, loss=2.50, step=176000]\n",
            "Valid: 100% 6336/6344 [00:03<00:00, 1633.15 uttr/s, accuracy=0.33, loss=3.38]\n",
            "Train: 100% 2000/2000 [00:55<00:00, 36.10 step/s, accuracy=0.66, loss=1.51, step=178000]\n",
            "Valid: 100% 6336/6344 [00:03<00:00, 1616.93 uttr/s, accuracy=0.32, loss=3.37]\n",
            "Train: 100% 2000/2000 [00:55<00:00, 36.07 step/s, accuracy=0.53, loss=2.02, step=180000]\n",
            "Valid: 100% 6336/6344 [00:03<00:00, 1633.15 uttr/s, accuracy=0.34, loss=3.33]\n",
            "Train:   0% 7/2000 [00:00<01:07, 29.47 step/s, accuracy=0.44, loss=2.59, step=180007]"
          ]
        },
        {
          "name": "stdout",
          "output_type": "stream",
          "text": [
            "Step 180000, best model saved. (accuracy=0.3442)\n"
          ]
        },
        {
          "name": "stderr",
          "output_type": "stream",
          "text": [
            "Train: 100% 2000/2000 [00:55<00:00, 36.03 step/s, accuracy=0.38, loss=2.28, step=182000]\n",
            "Valid: 100% 6336/6344 [00:03<00:00, 1638.61 uttr/s, accuracy=0.32, loss=3.37]\n",
            "Train: 100% 2000/2000 [00:55<00:00, 36.00 step/s, accuracy=0.44, loss=2.52, step=184000]\n",
            "Valid: 100% 6336/6344 [00:03<00:00, 1613.65 uttr/s, accuracy=0.33, loss=3.39]\n",
            "Train: 100% 2000/2000 [00:55<00:00, 36.02 step/s, accuracy=0.44, loss=2.52, step=186000]\n",
            "Valid: 100% 6336/6344 [00:03<00:00, 1600.24 uttr/s, accuracy=0.34, loss=3.35]\n",
            "Train: 100% 2000/2000 [00:55<00:00, 35.99 step/s, accuracy=0.41, loss=1.96, step=188000]\n",
            "Valid: 100% 6336/6344 [00:03<00:00, 1621.89 uttr/s, accuracy=0.33, loss=3.38]\n",
            "Train: 100% 2000/2000 [00:55<00:00, 35.96 step/s, accuracy=0.50, loss=2.18, step=190000]\n",
            "Valid: 100% 6336/6344 [00:03<00:00, 1589.82 uttr/s, accuracy=0.33, loss=3.37]\n",
            "Train:   0% 6/2000 [00:00<01:24, 23.50 step/s, accuracy=0.47, loss=2.85, step=190006]"
          ]
        },
        {
          "name": "stdout",
          "output_type": "stream",
          "text": [
            "Step 190000, best model saved. (accuracy=0.3442)\n"
          ]
        },
        {
          "name": "stderr",
          "output_type": "stream",
          "text": [
            "Train: 100% 2000/2000 [00:55<00:00, 35.96 step/s, accuracy=0.47, loss=2.59, step=192000]\n",
            "Valid: 100% 6336/6344 [00:03<00:00, 1618.17 uttr/s, accuracy=0.33, loss=3.36]\n",
            "Train: 100% 2000/2000 [00:56<00:00, 35.10 step/s, accuracy=0.53, loss=2.16, step=194000]\n",
            "Valid: 100% 6336/6344 [00:03<00:00, 1620.23 uttr/s, accuracy=0.34, loss=3.32]\n",
            "Train: 100% 2000/2000 [00:56<00:00, 35.17 step/s, accuracy=0.50, loss=2.36, step=196000]\n",
            "Valid: 100% 6336/6344 [00:03<00:00, 1620.23 uttr/s, accuracy=0.33, loss=3.34]\n",
            "Train: 100% 2000/2000 [00:55<00:00, 36.00 step/s, accuracy=0.47, loss=3.04, step=198000]\n",
            "Valid: 100% 6336/6344 [00:03<00:00, 1621.47 uttr/s, accuracy=0.33, loss=3.35]\n",
            "Train: 100% 2000/2000 [00:55<00:00, 35.95 step/s, accuracy=0.47, loss=2.23, step=2e+5]  \n",
            "Valid: 100% 6336/6344 [00:03<00:00, 1609.56 uttr/s, accuracy=0.33, loss=3.40]\n",
            "Train:   0% 0/2000 [00:00<?, ? step/s]\n"
          ]
        },
        {
          "name": "stdout",
          "output_type": "stream",
          "text": [
            "Step 200000, best model saved. (accuracy=0.3442)\n",
            "[Info]: Use Model-config2 now!\n",
            "[Info]: Use cuda now!\n",
            "[Info]: Finish loading data!\n",
            "[Info]: Finish creating model!\n"
          ]
        },
        {
          "name": "stderr",
          "output_type": "stream",
          "text": [
            "Train: 100% 2000/2000 [00:54<00:00, 36.38 step/s, accuracy=0.38, loss=3.13, step=2000]\n",
            "Valid: 100% 6336/6344 [00:03<00:00, 1652.26 uttr/s, accuracy=0.33, loss=3.16]\n",
            "Train: 100% 2000/2000 [00:54<00:00, 36.44 step/s, accuracy=0.47, loss=2.16, step=4000]\n",
            "Valid: 100% 6336/6344 [00:03<00:00, 1596.22 uttr/s, accuracy=0.48, loss=2.32]\n",
            "Train: 100% 2000/2000 [00:54<00:00, 36.37 step/s, accuracy=0.66, loss=1.44, step=6000]\n",
            "Valid: 100% 6336/6344 [00:03<00:00, 1617.35 uttr/s, accuracy=0.56, loss=1.91]\n",
            "Train: 100% 2000/2000 [00:54<00:00, 36.43 step/s, accuracy=0.59, loss=1.49, step=8000]\n",
            "Valid: 100% 6336/6344 [00:03<00:00, 1639.05 uttr/s, accuracy=0.61, loss=1.66]\n",
            "Train: 100% 2000/2000 [00:54<00:00, 36.36 step/s, accuracy=0.62, loss=1.64, step=1e+4]\n",
            "Valid: 100% 6336/6344 [00:03<00:00, 1650.54 uttr/s, accuracy=0.64, loss=1.54]\n",
            "Train:   0% 7/2000 [00:00<01:05, 30.49 step/s, accuracy=0.81, loss=0.82, step=1e+4]"
          ]
        },
        {
          "name": "stdout",
          "output_type": "stream",
          "text": [
            "Step 10000, best model saved. (accuracy=0.6420)\n"
          ]
        },
        {
          "name": "stderr",
          "output_type": "stream",
          "text": [
            "Train: 100% 2000/2000 [00:54<00:00, 36.38 step/s, accuracy=0.78, loss=1.12, step=12000]\n",
            "Valid: 100% 6336/6344 [00:03<00:00, 1668.31 uttr/s, accuracy=0.68, loss=1.38]\n",
            "Train: 100% 2000/2000 [00:55<00:00, 36.35 step/s, accuracy=0.75, loss=1.42, step=14000]\n",
            "Valid: 100% 6336/6344 [00:03<00:00, 1593.41 uttr/s, accuracy=0.71, loss=1.26]\n",
            "Train: 100% 2000/2000 [00:55<00:00, 35.82 step/s, accuracy=0.75, loss=0.77, step=16000]\n",
            "Valid: 100% 6336/6344 [00:04<00:00, 1469.91 uttr/s, accuracy=0.73, loss=1.16]\n",
            "Train: 100% 2000/2000 [00:55<00:00, 36.24 step/s, accuracy=0.81, loss=0.75, step=18000]\n",
            "Valid: 100% 6336/6344 [00:03<00:00, 1627.29 uttr/s, accuracy=0.74, loss=1.13]\n",
            "Train: 100% 2000/2000 [00:55<00:00, 36.34 step/s, accuracy=0.78, loss=0.88, step=2e+4] \n",
            "Valid: 100% 6336/6344 [00:03<00:00, 1609.97 uttr/s, accuracy=0.75, loss=1.08]\n",
            "Train:   0% 7/2000 [00:00<01:04, 30.97 step/s, accuracy=0.66, loss=1.25, step=2e+4]"
          ]
        },
        {
          "name": "stdout",
          "output_type": "stream",
          "text": [
            "Step 20000, best model saved. (accuracy=0.7464)\n"
          ]
        },
        {
          "name": "stderr",
          "output_type": "stream",
          "text": [
            "Train: 100% 2000/2000 [00:55<00:00, 36.25 step/s, accuracy=0.78, loss=0.90, step=22000]\n",
            "Valid: 100% 6336/6344 [00:04<00:00, 1579.55 uttr/s, accuracy=0.76, loss=1.02]\n",
            "Train: 100% 2000/2000 [00:55<00:00, 36.34 step/s, accuracy=0.84, loss=0.73, step=24000]\n",
            "Valid: 100% 6336/6344 [00:03<00:00, 1652.26 uttr/s, accuracy=0.77, loss=1.02]\n",
            "Train: 100% 2000/2000 [00:55<00:00, 36.31 step/s, accuracy=0.81, loss=0.70, step=26000]\n",
            "Valid: 100% 6336/6344 [00:04<00:00, 1579.94 uttr/s, accuracy=0.77, loss=1.00]\n",
            "Train: 100% 2000/2000 [00:55<00:00, 36.24 step/s, accuracy=0.88, loss=0.43, step=28000]\n",
            "Valid: 100% 6336/6344 [00:03<00:00, 1626.87 uttr/s, accuracy=0.78, loss=0.95]\n",
            "Train: 100% 2000/2000 [00:55<00:00, 36.33 step/s, accuracy=1.00, loss=0.14, step=3e+4] \n",
            "Valid: 100% 6336/6344 [00:03<00:00, 1590.22 uttr/s, accuracy=0.77, loss=1.00]\n",
            "Train:   0% 7/2000 [00:00<01:05, 30.50 step/s, accuracy=0.75, loss=0.76, step=3e+4]"
          ]
        },
        {
          "name": "stdout",
          "output_type": "stream",
          "text": [
            "Step 30000, best model saved. (accuracy=0.7800)\n"
          ]
        },
        {
          "name": "stderr",
          "output_type": "stream",
          "text": [
            "Train: 100% 2000/2000 [00:55<00:00, 36.31 step/s, accuracy=0.84, loss=0.53, step=32000]\n",
            "Valid: 100% 6336/6344 [00:03<00:00, 1629.38 uttr/s, accuracy=0.79, loss=0.90]\n",
            "Train: 100% 2000/2000 [00:55<00:00, 36.08 step/s, accuracy=0.88, loss=0.48, step=34000]\n",
            "Valid: 100% 6336/6344 [00:03<00:00, 1588.63 uttr/s, accuracy=0.80, loss=0.89]\n",
            "Train: 100% 2000/2000 [00:55<00:00, 36.16 step/s, accuracy=0.88, loss=0.52, step=36000]\n",
            "Valid: 100% 6336/6344 [00:04<00:00, 1491.65 uttr/s, accuracy=0.79, loss=0.89]\n",
            "Train: 100% 2000/2000 [00:55<00:00, 36.03 step/s, accuracy=0.88, loss=0.41, step=38000]\n",
            "Valid: 100% 6336/6344 [00:04<00:00, 1557.09 uttr/s, accuracy=0.80, loss=0.86]\n",
            "Train: 100% 2000/2000 [00:54<00:00, 36.47 step/s, accuracy=0.91, loss=0.65, step=4e+4] \n",
            "Valid: 100% 6336/6344 [00:04<00:00, 1570.57 uttr/s, accuracy=0.79, loss=0.93]\n",
            "Train:   0% 6/2000 [00:00<01:11, 27.95 step/s, accuracy=0.97, loss=0.31, step=4e+4]"
          ]
        },
        {
          "name": "stdout",
          "output_type": "stream",
          "text": [
            "Step 40000, best model saved. (accuracy=0.8010)\n"
          ]
        },
        {
          "name": "stderr",
          "output_type": "stream",
          "text": [
            "Train: 100% 2000/2000 [00:54<00:00, 36.48 step/s, accuracy=0.84, loss=0.54, step=42000]\n",
            "Valid: 100% 6336/6344 [00:04<00:00, 1563.99 uttr/s, accuracy=0.80, loss=0.88]\n",
            "Train: 100% 2000/2000 [00:55<00:00, 36.11 step/s, accuracy=0.84, loss=0.63, step=44000]\n",
            "Valid: 100% 6336/6344 [00:03<00:00, 1649.68 uttr/s, accuracy=0.81, loss=0.82]\n",
            "Train: 100% 2000/2000 [00:56<00:00, 35.65 step/s, accuracy=0.84, loss=0.33, step=46000]\n",
            "Valid: 100% 6336/6344 [00:04<00:00, 1505.08 uttr/s, accuracy=0.81, loss=0.81]\n",
            "Train: 100% 2000/2000 [00:55<00:00, 35.86 step/s, accuracy=0.91, loss=0.31, step=48000]\n",
            "Valid: 100% 6336/6344 [00:03<00:00, 1591.82 uttr/s, accuracy=0.82, loss=0.82]\n",
            "Train: 100% 2000/2000 [00:54<00:00, 36.48 step/s, accuracy=0.97, loss=0.27, step=5e+4] \n",
            "Valid: 100% 6336/6344 [00:04<00:00, 1561.69 uttr/s, accuracy=0.83, loss=0.79]\n",
            "Train:   0% 6/2000 [00:00<01:11, 28.00 step/s, accuracy=0.91, loss=0.16, step=5e+4]"
          ]
        },
        {
          "name": "stdout",
          "output_type": "stream",
          "text": [
            "Step 50000, best model saved. (accuracy=0.8280)\n"
          ]
        },
        {
          "name": "stderr",
          "output_type": "stream",
          "text": [
            "Train: 100% 2000/2000 [00:55<00:00, 36.26 step/s, accuracy=0.91, loss=0.29, step=52000]\n",
            "Valid: 100% 6336/6344 [00:03<00:00, 1639.47 uttr/s, accuracy=0.82, loss=0.82]\n",
            "Train: 100% 2000/2000 [00:55<00:00, 36.36 step/s, accuracy=0.91, loss=0.39, step=54000]\n",
            "Valid: 100% 6336/6344 [00:03<00:00, 1621.87 uttr/s, accuracy=0.83, loss=0.76]\n",
            "Train: 100% 2000/2000 [00:55<00:00, 36.23 step/s, accuracy=0.94, loss=0.22, step=56000]\n",
            "Valid: 100% 6336/6344 [00:03<00:00, 1622.72 uttr/s, accuracy=0.83, loss=0.75]\n",
            "Train: 100% 2000/2000 [00:56<00:00, 35.53 step/s, accuracy=0.94, loss=0.37, step=58000]\n",
            "Valid: 100% 6336/6344 [00:03<00:00, 1598.63 uttr/s, accuracy=0.83, loss=0.79]\n",
            "Train: 100% 2000/2000 [00:55<00:00, 36.29 step/s, accuracy=0.97, loss=0.08, step=6e+4] \n",
            "Valid: 100% 6336/6344 [00:03<00:00, 1662.64 uttr/s, accuracy=0.84, loss=0.74]\n",
            "Train:   0% 6/2000 [00:00<01:25, 23.32 step/s, accuracy=0.94, loss=0.28, step=6e+4]"
          ]
        },
        {
          "name": "stdout",
          "output_type": "stream",
          "text": [
            "Step 60000, best model saved. (accuracy=0.8389)\n"
          ]
        },
        {
          "name": "stderr",
          "output_type": "stream",
          "text": [
            "Train: 100% 2000/2000 [00:55<00:00, 36.29 step/s, accuracy=0.94, loss=0.25, step=62000]\n",
            "Valid: 100% 6336/6344 [00:03<00:00, 1628.12 uttr/s, accuracy=0.84, loss=0.74]\n",
            "Train: 100% 2000/2000 [00:55<00:00, 36.33 step/s, accuracy=0.97, loss=0.12, step=64000]\n",
            "Valid: 100% 6336/6344 [00:03<00:00, 1633.99 uttr/s, accuracy=0.84, loss=0.70]\n",
            "Train: 100% 2000/2000 [00:54<00:00, 36.39 step/s, accuracy=0.88, loss=0.31, step=66000]\n",
            "Valid: 100% 6336/6344 [00:04<00:00, 1577.98 uttr/s, accuracy=0.84, loss=0.75]\n",
            "Train: 100% 2000/2000 [00:55<00:00, 36.26 step/s, accuracy=0.94, loss=0.16, step=68000]\n",
            "Valid: 100% 6336/6344 [00:03<00:00, 1598.22 uttr/s, accuracy=0.84, loss=0.76]\n",
            "Train: 100% 2000/2000 [00:55<00:00, 36.36 step/s, accuracy=1.00, loss=0.10, step=7e+4] \n",
            "Valid: 100% 6336/6344 [00:03<00:00, 1643.28 uttr/s, accuracy=0.84, loss=0.73]\n",
            "Train:   0% 7/2000 [00:00<01:06, 30.11 step/s, accuracy=0.97, loss=0.14, step=7e+4]"
          ]
        },
        {
          "name": "stdout",
          "output_type": "stream",
          "text": [
            "Step 70000, best model saved. (accuracy=0.8398)\n"
          ]
        },
        {
          "name": "stderr",
          "output_type": "stream",
          "text": [
            "Train: 100% 2000/2000 [00:55<00:00, 36.34 step/s, accuracy=1.00, loss=0.02, step=72000]\n",
            "Valid: 100% 6336/6344 [00:03<00:00, 1621.48 uttr/s, accuracy=0.84, loss=0.72]\n",
            "Train: 100% 2000/2000 [00:55<00:00, 36.33 step/s, accuracy=0.91, loss=0.24, step=74000]\n",
            "Valid: 100% 6336/6344 [00:03<00:00, 1609.14 uttr/s, accuracy=0.84, loss=0.69]\n",
            "Train: 100% 2000/2000 [00:55<00:00, 36.33 step/s, accuracy=0.84, loss=0.23, step=76000]\n",
            "Valid: 100% 6336/6344 [00:03<00:00, 1638.20 uttr/s, accuracy=0.85, loss=0.73]\n",
            "Train: 100% 2000/2000 [00:56<00:00, 35.59 step/s, accuracy=0.94, loss=0.22, step=78000]\n",
            "Valid: 100% 6336/6344 [00:03<00:00, 1614.88 uttr/s, accuracy=0.85, loss=0.72]\n",
            "Train: 100% 2000/2000 [00:55<00:00, 36.30 step/s, accuracy=1.00, loss=0.06, step=8e+4] \n",
            "Valid: 100% 6336/6344 [00:04<00:00, 1582.30 uttr/s, accuracy=0.85, loss=0.70]\n",
            "Train:   0% 7/2000 [00:00<01:07, 29.47 step/s, accuracy=0.91, loss=0.24, step=8e+4]"
          ]
        },
        {
          "name": "stdout",
          "output_type": "stream",
          "text": [
            "Step 80000, best model saved. (accuracy=0.8521)\n"
          ]
        },
        {
          "name": "stderr",
          "output_type": "stream",
          "text": [
            "Train: 100% 2000/2000 [00:55<00:00, 36.30 step/s, accuracy=1.00, loss=0.05, step=82000]\n",
            "Valid: 100% 6336/6344 [00:03<00:00, 1628.96 uttr/s, accuracy=0.85, loss=0.70]\n",
            "Train: 100% 2000/2000 [00:55<00:00, 36.34 step/s, accuracy=0.97, loss=0.08, step=84000]\n",
            "Valid: 100% 6336/6344 [00:03<00:00, 1617.76 uttr/s, accuracy=0.84, loss=0.71]\n",
            "Train: 100% 2000/2000 [00:55<00:00, 36.01 step/s, accuracy=0.94, loss=0.26, step=86000]\n",
            "Valid: 100% 6336/6344 [00:04<00:00, 1566.30 uttr/s, accuracy=0.85, loss=0.68]\n",
            "Train: 100% 2000/2000 [00:55<00:00, 35.97 step/s, accuracy=0.97, loss=0.41, step=88000]\n",
            "Valid: 100% 6336/6344 [00:03<00:00, 1657.00 uttr/s, accuracy=0.86, loss=0.63]\n",
            "Train: 100% 2000/2000 [00:55<00:00, 36.35 step/s, accuracy=1.00, loss=0.04, step=9e+4] \n",
            "Valid: 100% 6336/6344 [00:03<00:00, 1636.93 uttr/s, accuracy=0.85, loss=0.70]\n",
            "Train:   0% 7/2000 [00:00<01:03, 31.45 step/s, accuracy=0.97, loss=0.06, step=9e+4]"
          ]
        },
        {
          "name": "stdout",
          "output_type": "stream",
          "text": [
            "Step 90000, best model saved. (accuracy=0.8627)\n"
          ]
        },
        {
          "name": "stderr",
          "output_type": "stream",
          "text": [
            "Train: 100% 2000/2000 [00:55<00:00, 36.22 step/s, accuracy=0.97, loss=0.07, step=92000]\n",
            "Valid: 100% 6336/6344 [00:04<00:00, 1575.63 uttr/s, accuracy=0.85, loss=0.69]\n",
            "Train: 100% 2000/2000 [00:55<00:00, 36.31 step/s, accuracy=1.00, loss=0.07, step=94000]\n",
            "Valid: 100% 6336/6344 [00:03<00:00, 1622.30 uttr/s, accuracy=0.86, loss=0.65]\n",
            "Train: 100% 2000/2000 [00:55<00:00, 36.33 step/s, accuracy=0.97, loss=0.14, step=96000]\n",
            "Valid: 100% 6336/6344 [00:04<00:00, 1570.17 uttr/s, accuracy=0.87, loss=0.62]\n",
            "Train: 100% 2000/2000 [00:56<00:00, 35.42 step/s, accuracy=0.97, loss=0.17, step=98000]\n",
            "Valid: 100% 6336/6344 [00:03<00:00, 1609.14 uttr/s, accuracy=0.87, loss=0.62]\n",
            "Train: 100% 2000/2000 [00:55<00:00, 36.33 step/s, accuracy=0.94, loss=0.09, step=1e+5] \n",
            "Valid: 100% 6336/6344 [00:04<00:00, 1574.46 uttr/s, accuracy=0.86, loss=0.65]\n",
            "Train:   0% 6/2000 [00:00<01:12, 27.65 step/s, accuracy=0.97, loss=0.09, step=1e+5]"
          ]
        },
        {
          "name": "stdout",
          "output_type": "stream",
          "text": [
            "Step 100000, best model saved. (accuracy=0.8692)\n"
          ]
        },
        {
          "name": "stderr",
          "output_type": "stream",
          "text": [
            "Train: 100% 2000/2000 [00:55<00:00, 36.27 step/s, accuracy=0.97, loss=0.27, step=102000]\n",
            "Valid: 100% 6336/6344 [00:03<00:00, 1588.23 uttr/s, accuracy=0.87, loss=0.61]\n",
            "Train: 100% 2000/2000 [00:55<00:00, 36.35 step/s, accuracy=0.97, loss=0.10, step=104000]\n",
            "Valid: 100% 6336/6344 [00:03<00:00, 1617.76 uttr/s, accuracy=0.87, loss=0.62]\n",
            "Train: 100% 2000/2000 [00:54<00:00, 36.42 step/s, accuracy=0.97, loss=0.12, step=106000]\n",
            "Valid: 100% 6336/6344 [00:03<00:00, 1634.83 uttr/s, accuracy=0.87, loss=0.60]\n",
            "Train: 100% 2000/2000 [00:54<00:00, 36.49 step/s, accuracy=0.97, loss=0.10, step=108000]\n",
            "Valid: 100% 6336/6344 [00:03<00:00, 1601.85 uttr/s, accuracy=0.87, loss=0.61]\n",
            "Train: 100% 2000/2000 [00:56<00:00, 35.53 step/s, accuracy=0.97, loss=0.08, step=110000]\n",
            "Valid: 100% 6336/6344 [00:03<00:00, 1641.16 uttr/s, accuracy=0.88, loss=0.60]\n",
            "Train:   0% 7/2000 [00:00<01:03, 31.14 step/s, accuracy=1.00, loss=0.03, step=110006]"
          ]
        },
        {
          "name": "stdout",
          "output_type": "stream",
          "text": [
            "Step 110000, best model saved. (accuracy=0.8771)\n"
          ]
        },
        {
          "name": "stderr",
          "output_type": "stream",
          "text": [
            "Train: 100% 2000/2000 [00:55<00:00, 36.33 step/s, accuracy=1.00, loss=0.03, step=112000]\n",
            "Valid: 100% 6336/6344 [00:03<00:00, 1641.59 uttr/s, accuracy=0.88, loss=0.58]\n",
            "Train: 100% 2000/2000 [00:54<00:00, 36.44 step/s, accuracy=1.00, loss=0.01, step=114000]\n",
            "Valid: 100% 6336/6344 [00:04<00:00, 1577.19 uttr/s, accuracy=0.88, loss=0.59]\n",
            "Train: 100% 2000/2000 [00:54<00:00, 36.49 step/s, accuracy=1.00, loss=0.01, step=116000]\n",
            "Valid: 100% 6336/6344 [00:03<00:00, 1591.82 uttr/s, accuracy=0.88, loss=0.59]\n",
            "Train: 100% 2000/2000 [00:56<00:00, 35.52 step/s, accuracy=1.00, loss=0.01, step=118000]\n",
            "Valid: 100% 6336/6344 [00:03<00:00, 1646.27 uttr/s, accuracy=0.88, loss=0.60]\n",
            "Train: 100% 2000/2000 [00:54<00:00, 36.43 step/s, accuracy=1.00, loss=0.01, step=120000]\n",
            "Valid: 100% 6336/6344 [00:03<00:00, 1600.24 uttr/s, accuracy=0.88, loss=0.59]\n",
            "Train:   0% 7/2000 [00:00<01:06, 29.96 step/s, accuracy=0.97, loss=0.06, step=120007]"
          ]
        },
        {
          "name": "stdout",
          "output_type": "stream",
          "text": [
            "Step 120000, best model saved. (accuracy=0.8807)\n"
          ]
        },
        {
          "name": "stderr",
          "output_type": "stream",
          "text": [
            "Train: 100% 2000/2000 [00:55<00:00, 36.30 step/s, accuracy=1.00, loss=0.05, step=122000]\n",
            "Valid: 100% 6336/6344 [00:03<00:00, 1598.63 uttr/s, accuracy=0.88, loss=0.57]\n",
            "Train: 100% 2000/2000 [00:55<00:00, 36.34 step/s, accuracy=1.00, loss=0.05, step=124000]\n",
            "Valid: 100% 6336/6344 [00:03<00:00, 1601.45 uttr/s, accuracy=0.89, loss=0.55]\n",
            "Train: 100% 2000/2000 [00:55<00:00, 36.34 step/s, accuracy=1.00, loss=0.02, step=126000]\n",
            "Valid: 100% 6336/6344 [00:03<00:00, 1639.89 uttr/s, accuracy=0.88, loss=0.58]\n",
            "Train: 100% 2000/2000 [00:55<00:00, 36.32 step/s, accuracy=0.97, loss=0.13, step=128000]\n",
            "Valid: 100% 6336/6344 [00:04<00:00, 1583.09 uttr/s, accuracy=0.88, loss=0.57]\n",
            "Train: 100% 2000/2000 [00:55<00:00, 36.28 step/s, accuracy=1.00, loss=0.01, step=130000]\n",
            "Valid: 100% 6336/6344 [00:03<00:00, 1644.56 uttr/s, accuracy=0.88, loss=0.55]\n",
            "Train:   0% 7/2000 [00:00<01:06, 29.95 step/s, accuracy=0.97, loss=0.12, step=130006]"
          ]
        },
        {
          "name": "stdout",
          "output_type": "stream",
          "text": [
            "Step 130000, best model saved. (accuracy=0.8857)\n"
          ]
        },
        {
          "name": "stderr",
          "output_type": "stream",
          "text": [
            "Train: 100% 2000/2000 [00:55<00:00, 36.32 step/s, accuracy=1.00, loss=0.00, step=132000]\n",
            "Valid: 100% 6336/6344 [00:03<00:00, 1642.43 uttr/s, accuracy=0.89, loss=0.54]\n",
            "Train: 100% 2000/2000 [00:55<00:00, 36.24 step/s, accuracy=1.00, loss=0.03, step=134000]\n",
            "Valid: 100% 6336/6344 [00:04<00:00, 1564.38 uttr/s, accuracy=0.89, loss=0.53]\n",
            "Train: 100% 2000/2000 [00:55<00:00, 36.32 step/s, accuracy=1.00, loss=0.01, step=136000]\n",
            "Valid: 100% 6336/6344 [00:04<00:00, 1573.29 uttr/s, accuracy=0.89, loss=0.53]\n",
            "Train: 100% 2000/2000 [00:56<00:00, 35.42 step/s, accuracy=0.97, loss=0.06, step=138000]\n",
            "Valid: 100% 6336/6344 [00:03<00:00, 1656.57 uttr/s, accuracy=0.89, loss=0.49]\n",
            "Train: 100% 2000/2000 [00:55<00:00, 36.24 step/s, accuracy=1.00, loss=0.08, step=140000]\n",
            "Valid: 100% 6336/6344 [00:03<00:00, 1616.94 uttr/s, accuracy=0.90, loss=0.50]\n",
            "Train:   0% 7/2000 [00:00<01:06, 29.89 step/s, accuracy=1.00, loss=0.03, step=140006]"
          ]
        },
        {
          "name": "stdout",
          "output_type": "stream",
          "text": [
            "Step 140000, best model saved. (accuracy=0.8961)\n"
          ]
        },
        {
          "name": "stderr",
          "output_type": "stream",
          "text": [
            "Train: 100% 2000/2000 [00:55<00:00, 36.22 step/s, accuracy=1.00, loss=0.02, step=142000]\n",
            "Valid: 100% 6336/6344 [00:03<00:00, 1616.51 uttr/s, accuracy=0.90, loss=0.51]\n",
            "Train: 100% 2000/2000 [00:55<00:00, 36.33 step/s, accuracy=1.00, loss=0.02, step=144000]\n",
            "Valid: 100% 6336/6344 [00:04<00:00, 1566.69 uttr/s, accuracy=0.89, loss=0.54]\n",
            "Train: 100% 2000/2000 [00:55<00:00, 36.30 step/s, accuracy=1.00, loss=0.01, step=146000]\n",
            "Valid: 100% 6336/6344 [00:04<00:00, 1578.37 uttr/s, accuracy=0.90, loss=0.51]\n",
            "Train: 100% 2000/2000 [00:55<00:00, 36.28 step/s, accuracy=1.00, loss=0.00, step=148000]\n",
            "Valid: 100% 6336/6344 [00:04<00:00, 1574.85 uttr/s, accuracy=0.90, loss=0.49]\n",
            "Train: 100% 2000/2000 [00:55<00:00, 36.24 step/s, accuracy=1.00, loss=0.00, step=150000]\n",
            "Valid: 100% 6336/6344 [00:03<00:00, 1643.28 uttr/s, accuracy=0.90, loss=0.50]\n",
            "Train:   0% 7/2000 [00:00<01:04, 30.81 step/s, accuracy=1.00, loss=0.01, step=150006]"
          ]
        },
        {
          "name": "stdout",
          "output_type": "stream",
          "text": [
            "Step 150000, best model saved. (accuracy=0.8990)\n"
          ]
        },
        {
          "name": "stderr",
          "output_type": "stream",
          "text": [
            "Train: 100% 2000/2000 [00:55<00:00, 36.24 step/s, accuracy=1.00, loss=0.03, step=152000]\n",
            "Valid: 100% 6336/6344 [00:04<00:00, 1583.48 uttr/s, accuracy=0.90, loss=0.47]\n",
            "Train: 100% 2000/2000 [00:55<00:00, 36.29 step/s, accuracy=1.00, loss=0.00, step=154000]\n",
            "Valid: 100% 6336/6344 [00:03<00:00, 1635.25 uttr/s, accuracy=0.90, loss=0.52]\n",
            "Train: 100% 2000/2000 [00:55<00:00, 36.35 step/s, accuracy=1.00, loss=0.02, step=156000]\n",
            "Valid: 100% 6336/6344 [00:04<00:00, 1562.45 uttr/s, accuracy=0.91, loss=0.47]\n",
            "Train: 100% 2000/2000 [00:56<00:00, 35.56 step/s, accuracy=1.00, loss=0.00, step=158000]\n",
            "Valid: 100% 6336/6344 [00:04<00:00, 1494.46 uttr/s, accuracy=0.91, loss=0.47]\n",
            "Train: 100% 2000/2000 [00:55<00:00, 36.25 step/s, accuracy=0.97, loss=0.06, step=160000]\n",
            "Valid: 100% 6336/6344 [00:04<00:00, 1567.85 uttr/s, accuracy=0.90, loss=0.49]\n",
            "Train:   0% 7/2000 [00:00<01:11, 27.72 step/s, accuracy=1.00, loss=0.00, step=160007]"
          ]
        },
        {
          "name": "stdout",
          "output_type": "stream",
          "text": [
            "Step 160000, best model saved. (accuracy=0.9075)\n"
          ]
        },
        {
          "name": "stderr",
          "output_type": "stream",
          "text": [
            "Train: 100% 2000/2000 [00:55<00:00, 36.21 step/s, accuracy=1.00, loss=0.00, step=162000]\n",
            "Valid: 100% 6336/6344 [00:04<00:00, 1579.15 uttr/s, accuracy=0.91, loss=0.45]\n",
            "Train: 100% 2000/2000 [00:55<00:00, 36.25 step/s, accuracy=1.00, loss=0.00, step=164000]\n",
            "Valid: 100% 6336/6344 [00:03<00:00, 1631.89 uttr/s, accuracy=0.91, loss=0.47]\n",
            "Train: 100% 2000/2000 [00:55<00:00, 36.04 step/s, accuracy=1.00, loss=0.01, step=166000]\n",
            "Valid: 100% 6336/6344 [00:03<00:00, 1653.55 uttr/s, accuracy=0.91, loss=0.43]\n",
            "Train: 100% 2000/2000 [00:56<00:00, 35.49 step/s, accuracy=1.00, loss=0.01, step=168000]\n",
            "Valid: 100% 6336/6344 [00:04<00:00, 1480.18 uttr/s, accuracy=0.91, loss=0.44]\n",
            "Train: 100% 2000/2000 [00:56<00:00, 35.62 step/s, accuracy=1.00, loss=0.01, step=170000]\n",
            "Valid: 100% 6336/6344 [00:03<00:00, 1587.84 uttr/s, accuracy=0.91, loss=0.45]\n",
            "Train:   0% 6/2000 [00:00<01:12, 27.51 step/s, accuracy=1.00, loss=0.00, step=170005]"
          ]
        },
        {
          "name": "stdout",
          "output_type": "stream",
          "text": [
            "Step 170000, best model saved. (accuracy=0.9137)\n"
          ]
        },
        {
          "name": "stderr",
          "output_type": "stream",
          "text": [
            "Train: 100% 2000/2000 [00:55<00:00, 36.13 step/s, accuracy=1.00, loss=0.00, step=172000]\n",
            "Valid: 100% 6336/6344 [00:03<00:00, 1590.22 uttr/s, accuracy=0.91, loss=0.45]\n",
            "Train: 100% 2000/2000 [00:54<00:00, 36.42 step/s, accuracy=1.00, loss=0.01, step=174000]\n",
            "Valid: 100% 6336/6344 [00:03<00:00, 1633.99 uttr/s, accuracy=0.91, loss=0.46]\n",
            "Train: 100% 2000/2000 [00:55<00:00, 36.29 step/s, accuracy=1.00, loss=0.00, step=176000]\n",
            "Valid: 100% 6336/6344 [00:04<00:00, 1574.07 uttr/s, accuracy=0.91, loss=0.45]\n",
            "Train: 100% 2000/2000 [00:55<00:00, 35.85 step/s, accuracy=1.00, loss=0.00, step=178000]\n",
            "Valid: 100% 6336/6344 [00:04<00:00, 1482.60 uttr/s, accuracy=0.91, loss=0.46]\n",
            "Train: 100% 2000/2000 [00:55<00:00, 36.16 step/s, accuracy=1.00, loss=0.00, step=180000]\n",
            "Valid: 100% 6336/6344 [00:03<00:00, 1602.25 uttr/s, accuracy=0.91, loss=0.44]\n",
            "Train:   0% 6/2000 [00:00<01:10, 28.14 step/s, accuracy=1.00, loss=0.00, step=180005]"
          ]
        },
        {
          "name": "stdout",
          "output_type": "stream",
          "text": [
            "Step 180000, best model saved. (accuracy=0.9137)\n"
          ]
        },
        {
          "name": "stderr",
          "output_type": "stream",
          "text": [
            "Train: 100% 2000/2000 [00:55<00:00, 36.32 step/s, accuracy=1.00, loss=0.00, step=182000]\n",
            "Valid: 100% 6336/6344 [00:04<00:00, 1580.73 uttr/s, accuracy=0.91, loss=0.44]\n",
            "Train: 100% 2000/2000 [00:54<00:00, 36.38 step/s, accuracy=1.00, loss=0.00, step=184000]\n",
            "Valid: 100% 6336/6344 [00:03<00:00, 1595.41 uttr/s, accuracy=0.91, loss=0.44]\n",
            "Train: 100% 2000/2000 [00:54<00:00, 36.39 step/s, accuracy=1.00, loss=0.00, step=186000]\n",
            "Valid: 100% 6336/6344 [00:03<00:00, 1615.70 uttr/s, accuracy=0.91, loss=0.44]\n",
            "Train: 100% 2000/2000 [00:55<00:00, 36.29 step/s, accuracy=1.00, loss=0.00, step=188000]\n",
            "Valid: 100% 6336/6344 [00:03<00:00, 1653.98 uttr/s, accuracy=0.91, loss=0.44]\n",
            "Train: 100% 2000/2000 [00:55<00:00, 36.33 step/s, accuracy=1.00, loss=0.00, step=190000]\n",
            "Valid: 100% 6336/6344 [00:03<00:00, 1656.56 uttr/s, accuracy=0.91, loss=0.44]\n",
            "Train:   0% 7/2000 [00:00<01:05, 30.51 step/s, accuracy=1.00, loss=0.00, step=190006]"
          ]
        },
        {
          "name": "stdout",
          "output_type": "stream",
          "text": [
            "Step 190000, best model saved. (accuracy=0.9141)\n"
          ]
        },
        {
          "name": "stderr",
          "output_type": "stream",
          "text": [
            "Train: 100% 2000/2000 [00:55<00:00, 36.16 step/s, accuracy=1.00, loss=0.00, step=192000]\n",
            "Valid: 100% 6336/6344 [00:04<00:00, 1562.84 uttr/s, accuracy=0.92, loss=0.42]\n",
            "Train: 100% 2000/2000 [00:55<00:00, 36.30 step/s, accuracy=1.00, loss=0.00, step=194000]\n",
            "Valid: 100% 6336/6344 [00:04<00:00, 1574.85 uttr/s, accuracy=0.92, loss=0.44]\n",
            "Train: 100% 2000/2000 [00:58<00:00, 33.91 step/s, accuracy=1.00, loss=0.00, step=196000]\n",
            "Valid: 100% 6336/6344 [00:04<00:00, 1481.56 uttr/s, accuracy=0.91, loss=0.43]\n",
            "Train: 100% 2000/2000 [00:59<00:00, 33.75 step/s, accuracy=1.00, loss=0.01, step=198000]\n",
            "Valid: 100% 6336/6344 [00:04<00:00, 1388.01 uttr/s, accuracy=0.91, loss=0.44]\n",
            "Train: 100% 2000/2000 [00:59<00:00, 33.39 step/s, accuracy=1.00, loss=0.00, step=2e+5]  \n",
            "Valid: 100% 6336/6344 [00:04<00:00, 1368.58 uttr/s, accuracy=0.91, loss=0.42]\n",
            "Train:   0% 0/2000 [00:00<?, ? step/s]\n"
          ]
        },
        {
          "name": "stdout",
          "output_type": "stream",
          "text": [
            "Step 200000, best model saved. (accuracy=0.9157)\n",
            "[Info]: Use Model-config3 now!\n",
            "[Info]: Use cuda now!\n",
            "[Info]: Finish loading data!\n",
            "[Info]: Finish creating model!\n"
          ]
        },
        {
          "name": "stderr",
          "output_type": "stream",
          "text": [
            "Train: 100% 2000/2000 [00:56<00:00, 35.17 step/s, accuracy=0.09, loss=5.11, step=2000]\n",
            "Valid: 100% 6336/6344 [00:03<00:00, 1593.81 uttr/s, accuracy=0.10, loss=5.14]\n",
            "Train: 100% 2000/2000 [00:54<00:00, 36.47 step/s, accuracy=0.09, loss=5.18, step=4000]\n",
            "Valid: 100% 6336/6344 [00:03<00:00, 1635.24 uttr/s, accuracy=0.13, loss=4.80]\n",
            "Train: 100% 2000/2000 [00:54<00:00, 36.53 step/s, accuracy=0.19, loss=4.27, step=6000]\n",
            "Valid: 100% 6336/6344 [00:03<00:00, 1597.42 uttr/s, accuracy=0.14, loss=4.64]\n",
            "Train: 100% 2000/2000 [00:55<00:00, 35.83 step/s, accuracy=0.12, loss=4.60, step=8000]\n",
            "Valid: 100% 6336/6344 [00:03<00:00, 1596.62 uttr/s, accuracy=0.17, loss=4.33]\n",
            "Train: 100% 2000/2000 [00:54<00:00, 36.44 step/s, accuracy=0.22, loss=4.68, step=1e+4]\n",
            "Valid: 100% 6336/6344 [00:04<00:00, 1578.76 uttr/s, accuracy=0.18, loss=4.26]\n",
            "Train:   0% 7/2000 [00:00<01:05, 30.58 step/s, accuracy=0.25, loss=3.88, step=1e+4]"
          ]
        },
        {
          "name": "stdout",
          "output_type": "stream",
          "text": [
            "Step 10000, best model saved. (accuracy=0.1774)\n"
          ]
        },
        {
          "name": "stderr",
          "output_type": "stream",
          "text": [
            "Train: 100% 2000/2000 [00:55<00:00, 35.93 step/s, accuracy=0.12, loss=4.21, step=12000]\n",
            "Valid: 100% 6336/6344 [00:03<00:00, 1602.25 uttr/s, accuracy=0.20, loss=4.07]\n",
            "Train: 100% 2000/2000 [00:54<00:00, 36.46 step/s, accuracy=0.19, loss=4.14, step=14000]\n",
            "Valid: 100% 6336/6344 [00:03<00:00, 1591.42 uttr/s, accuracy=0.20, loss=4.07]\n",
            "Train: 100% 2000/2000 [00:54<00:00, 36.41 step/s, accuracy=0.22, loss=3.70, step=16000]\n",
            "Valid: 100% 6336/6344 [00:03<00:00, 1602.66 uttr/s, accuracy=0.21, loss=4.05]\n",
            "Train: 100% 2000/2000 [00:55<00:00, 36.05 step/s, accuracy=0.19, loss=3.80, step=18000]\n",
            "Valid: 100% 6336/6344 [00:04<00:00, 1490.60 uttr/s, accuracy=0.24, loss=3.87]\n",
            "Train: 100% 2000/2000 [00:55<00:00, 36.20 step/s, accuracy=0.22, loss=4.02, step=2e+4] \n",
            "Valid: 100% 6336/6344 [00:03<00:00, 1597.42 uttr/s, accuracy=0.24, loss=3.80]\n",
            "Train:   0% 7/2000 [00:00<01:04, 30.91 step/s, accuracy=0.25, loss=4.03, step=2e+4]"
          ]
        },
        {
          "name": "stdout",
          "output_type": "stream",
          "text": [
            "Step 20000, best model saved. (accuracy=0.2386)\n"
          ]
        },
        {
          "name": "stderr",
          "output_type": "stream",
          "text": [
            "Train: 100% 2000/2000 [00:54<00:00, 36.46 step/s, accuracy=0.31, loss=3.76, step=22000]\n",
            "Valid: 100% 6336/6344 [00:03<00:00, 1594.60 uttr/s, accuracy=0.24, loss=3.80]\n",
            "Train: 100% 2000/2000 [00:54<00:00, 36.50 step/s, accuracy=0.38, loss=3.01, step=24000]\n",
            "Valid: 100% 6336/6344 [00:03<00:00, 1599.03 uttr/s, accuracy=0.25, loss=3.74]\n",
            "Train: 100% 2000/2000 [00:54<00:00, 36.52 step/s, accuracy=0.22, loss=3.67, step=26000]\n",
            "Valid: 100% 6336/6344 [00:03<00:00, 1595.01 uttr/s, accuracy=0.25, loss=3.75]\n",
            "Train: 100% 2000/2000 [00:54<00:00, 36.42 step/s, accuracy=0.28, loss=3.69, step=28000]\n",
            "Valid: 100% 6336/6344 [00:03<00:00, 1594.21 uttr/s, accuracy=0.26, loss=3.72]\n",
            "Train: 100% 2000/2000 [00:54<00:00, 36.51 step/s, accuracy=0.31, loss=3.48, step=3e+4] \n",
            "Valid: 100% 6336/6344 [00:04<00:00, 1578.75 uttr/s, accuracy=0.25, loss=3.75]\n",
            "Train:   0% 6/2000 [00:00<01:10, 28.23 step/s, accuracy=0.34, loss=3.72, step=3e+4]"
          ]
        },
        {
          "name": "stdout",
          "output_type": "stream",
          "text": [
            "Step 30000, best model saved. (accuracy=0.2598)\n"
          ]
        },
        {
          "name": "stderr",
          "output_type": "stream",
          "text": [
            "Train: 100% 2000/2000 [00:54<00:00, 36.45 step/s, accuracy=0.25, loss=3.41, step=32000]\n",
            "Valid: 100% 6336/6344 [00:03<00:00, 1598.22 uttr/s, accuracy=0.27, loss=3.63]\n",
            "Train: 100% 2000/2000 [00:54<00:00, 36.46 step/s, accuracy=0.28, loss=3.89, step=34000]\n",
            "Valid: 100% 6336/6344 [00:03<00:00, 1595.41 uttr/s, accuracy=0.27, loss=3.65]\n",
            "Train: 100% 2000/2000 [00:54<00:00, 36.48 step/s, accuracy=0.31, loss=3.26, step=36000]\n",
            "Valid: 100% 6336/6344 [00:03<00:00, 1589.03 uttr/s, accuracy=0.26, loss=3.66]\n",
            "Train: 100% 2000/2000 [00:55<00:00, 36.02 step/s, accuracy=0.31, loss=3.06, step=38000]\n",
            "Valid: 100% 6336/6344 [00:04<00:00, 1420.92 uttr/s, accuracy=0.28, loss=3.63]\n",
            "Train: 100% 2000/2000 [00:56<00:00, 35.50 step/s, accuracy=0.25, loss=3.22, step=4e+4] \n",
            "Valid: 100% 6336/6344 [00:03<00:00, 1607.12 uttr/s, accuracy=0.27, loss=3.59]\n",
            "Train:   0% 6/2000 [00:00<01:28, 22.45 step/s, accuracy=0.22, loss=3.58, step=4e+4]"
          ]
        },
        {
          "name": "stdout",
          "output_type": "stream",
          "text": [
            "Step 40000, best model saved. (accuracy=0.2759)\n"
          ]
        },
        {
          "name": "stderr",
          "output_type": "stream",
          "text": [
            "Train: 100% 2000/2000 [00:54<00:00, 36.63 step/s, accuracy=0.34, loss=2.95, step=42000]\n",
            "Valid: 100% 6336/6344 [00:03<00:00, 1610.79 uttr/s, accuracy=0.28, loss=3.60]\n",
            "Train: 100% 2000/2000 [00:54<00:00, 36.61 step/s, accuracy=0.28, loss=3.07, step=44000]\n",
            "Valid: 100% 6336/6344 [00:03<00:00, 1601.45 uttr/s, accuracy=0.28, loss=3.57]\n",
            "Train: 100% 2000/2000 [00:54<00:00, 36.63 step/s, accuracy=0.34, loss=3.37, step=46000]\n",
            "Valid: 100% 6336/6344 [00:03<00:00, 1595.41 uttr/s, accuracy=0.28, loss=3.59]\n",
            "Train: 100% 2000/2000 [00:54<00:00, 36.63 step/s, accuracy=0.16, loss=3.54, step=48000]\n",
            "Valid: 100% 6336/6344 [00:03<00:00, 1591.02 uttr/s, accuracy=0.27, loss=3.62]\n",
            "Train: 100% 2000/2000 [00:54<00:00, 36.69 step/s, accuracy=0.53, loss=2.74, step=5e+4] \n",
            "Valid: 100% 6336/6344 [00:03<00:00, 1592.61 uttr/s, accuracy=0.29, loss=3.51]\n",
            "Train:   0% 6/2000 [00:00<01:25, 23.32 step/s, accuracy=0.31, loss=3.28, step=5e+4]"
          ]
        },
        {
          "name": "stdout",
          "output_type": "stream",
          "text": [
            "Step 50000, best model saved. (accuracy=0.2904)\n"
          ]
        },
        {
          "name": "stderr",
          "output_type": "stream",
          "text": [
            "Train: 100% 2000/2000 [00:54<00:00, 36.57 step/s, accuracy=0.31, loss=3.35, step=52000]\n",
            "Valid: 100% 6336/6344 [00:03<00:00, 1598.63 uttr/s, accuracy=0.28, loss=3.59]\n",
            "Train: 100% 2000/2000 [00:54<00:00, 36.41 step/s, accuracy=0.31, loss=3.15, step=54000]\n",
            "Valid: 100% 6336/6344 [00:03<00:00, 1602.66 uttr/s, accuracy=0.28, loss=3.56]\n",
            "Train: 100% 2000/2000 [00:54<00:00, 36.51 step/s, accuracy=0.31, loss=3.23, step=56000]\n",
            "Valid: 100% 6336/6344 [00:03<00:00, 1595.81 uttr/s, accuracy=0.28, loss=3.60]\n",
            "Train: 100% 2000/2000 [00:54<00:00, 36.51 step/s, accuracy=0.41, loss=2.72, step=58000]\n",
            "Valid: 100% 6336/6344 [00:03<00:00, 1605.09 uttr/s, accuracy=0.26, loss=3.69]\n",
            "Train: 100% 2000/2000 [00:56<00:00, 35.67 step/s, accuracy=0.41, loss=3.01, step=6e+4] \n",
            "Valid: 100% 6336/6344 [00:03<00:00, 1605.49 uttr/s, accuracy=0.28, loss=3.58]\n",
            "Train:   0% 7/2000 [00:00<01:08, 29.19 step/s, accuracy=0.22, loss=3.06, step=6e+4]"
          ]
        },
        {
          "name": "stdout",
          "output_type": "stream",
          "text": [
            "Step 60000, best model saved. (accuracy=0.2904)\n"
          ]
        },
        {
          "name": "stderr",
          "output_type": "stream",
          "text": [
            "Train: 100% 2000/2000 [00:54<00:00, 36.43 step/s, accuracy=0.28, loss=3.41, step=62000]\n",
            "Valid: 100% 6336/6344 [00:03<00:00, 1586.65 uttr/s, accuracy=0.27, loss=3.65]\n",
            "Train: 100% 2000/2000 [00:54<00:00, 36.45 step/s, accuracy=0.28, loss=2.79, step=64000]\n",
            "Valid: 100% 6336/6344 [00:03<00:00, 1597.02 uttr/s, accuracy=0.26, loss=3.74]\n",
            "Train: 100% 2000/2000 [00:54<00:00, 36.45 step/s, accuracy=0.38, loss=2.98, step=66000]\n",
            "Valid: 100% 6336/6344 [00:03<00:00, 1596.62 uttr/s, accuracy=0.29, loss=3.52]\n",
            "Train: 100% 2000/2000 [00:54<00:00, 36.45 step/s, accuracy=0.34, loss=2.81, step=68000]\n",
            "Valid: 100% 6336/6344 [00:03<00:00, 1597.02 uttr/s, accuracy=0.29, loss=3.56]\n",
            "Train: 100% 2000/2000 [00:54<00:00, 36.38 step/s, accuracy=0.31, loss=2.76, step=7e+4] \n",
            "Valid: 100% 6336/6344 [00:03<00:00, 1604.28 uttr/s, accuracy=0.28, loss=3.55]\n",
            "Train:   0% 6/2000 [00:00<01:26, 23.14 step/s, accuracy=0.28, loss=3.94, step=7e+4]"
          ]
        },
        {
          "name": "stdout",
          "output_type": "stream",
          "text": [
            "Step 70000, best model saved. (accuracy=0.2904)\n"
          ]
        },
        {
          "name": "stderr",
          "output_type": "stream",
          "text": [
            "Train: 100% 2000/2000 [00:54<00:00, 36.42 step/s, accuracy=0.38, loss=3.10, step=72000]\n",
            "Valid: 100% 6336/6344 [00:03<00:00, 1599.43 uttr/s, accuracy=0.30, loss=3.48]\n",
            "Train: 100% 2000/2000 [00:55<00:00, 36.32 step/s, accuracy=0.41, loss=3.19, step=74000]\n",
            "Valid: 100% 6336/6344 [00:03<00:00, 1590.22 uttr/s, accuracy=0.28, loss=3.52]\n",
            "Train: 100% 2000/2000 [00:54<00:00, 36.57 step/s, accuracy=0.31, loss=3.19, step=76000]\n",
            "Valid: 100% 6336/6344 [00:03<00:00, 1585.46 uttr/s, accuracy=0.26, loss=3.75]\n",
            "Train: 100% 2000/2000 [00:54<00:00, 36.49 step/s, accuracy=0.34, loss=3.41, step=78000]\n",
            "Valid: 100% 6336/6344 [00:03<00:00, 1605.90 uttr/s, accuracy=0.28, loss=3.62]\n",
            "Train: 100% 2000/2000 [00:56<00:00, 35.69 step/s, accuracy=0.31, loss=3.14, step=8e+4] \n",
            "Valid: 100% 6336/6344 [00:03<00:00, 1591.02 uttr/s, accuracy=0.29, loss=3.56]\n",
            "Train:   0% 6/2000 [00:00<01:26, 23.14 step/s, accuracy=0.31, loss=3.15, step=8e+4]"
          ]
        },
        {
          "name": "stdout",
          "output_type": "stream",
          "text": [
            "Step 80000, best model saved. (accuracy=0.2964)\n"
          ]
        },
        {
          "name": "stderr",
          "output_type": "stream",
          "text": [
            "Train: 100% 2000/2000 [00:54<00:00, 36.44 step/s, accuracy=0.44, loss=2.85, step=82000]\n",
            "Valid: 100% 6336/6344 [00:03<00:00, 1607.93 uttr/s, accuracy=0.29, loss=3.58]\n",
            "Train: 100% 2000/2000 [00:54<00:00, 36.44 step/s, accuracy=0.31, loss=3.08, step=84000]\n",
            "Valid: 100% 6336/6344 [00:03<00:00, 1601.04 uttr/s, accuracy=0.28, loss=3.68]\n",
            "Train: 100% 2000/2000 [00:54<00:00, 36.47 step/s, accuracy=0.28, loss=3.44, step=86000]\n",
            "Valid: 100% 6336/6344 [00:03<00:00, 1591.42 uttr/s, accuracy=0.27, loss=3.65]\n",
            "Train: 100% 2000/2000 [00:55<00:00, 36.30 step/s, accuracy=0.38, loss=2.73, step=88000]\n",
            "Valid: 100% 6336/6344 [00:03<00:00, 1605.09 uttr/s, accuracy=0.28, loss=3.63]\n",
            "Train: 100% 2000/2000 [00:55<00:00, 35.81 step/s, accuracy=0.22, loss=3.30, step=9e+4] \n",
            "Valid: 100% 6336/6344 [00:04<00:00, 1509.37 uttr/s, accuracy=0.29, loss=3.61]\n",
            "Train:   0% 6/2000 [00:00<01:26, 23.14 step/s, accuracy=0.31, loss=3.24, step=9e+4]"
          ]
        },
        {
          "name": "stdout",
          "output_type": "stream",
          "text": [
            "Step 90000, best model saved. (accuracy=0.2964)\n"
          ]
        },
        {
          "name": "stderr",
          "output_type": "stream",
          "text": [
            "Train: 100% 2000/2000 [00:56<00:00, 35.62 step/s, accuracy=0.44, loss=2.69, step=92000]\n",
            "Valid: 100% 6336/6344 [00:03<00:00, 1588.63 uttr/s, accuracy=0.30, loss=3.51]\n",
            "Train: 100% 2000/2000 [00:55<00:00, 36.33 step/s, accuracy=0.31, loss=3.23, step=94000]\n",
            "Valid: 100% 6336/6344 [00:03<00:00, 1591.82 uttr/s, accuracy=0.30, loss=3.50]\n",
            "Train: 100% 2000/2000 [00:54<00:00, 36.58 step/s, accuracy=0.34, loss=2.82, step=96000]\n",
            "Valid: 100% 6336/6344 [00:03<00:00, 1595.81 uttr/s, accuracy=0.28, loss=3.60]\n",
            "Train: 100% 2000/2000 [00:54<00:00, 36.47 step/s, accuracy=0.47, loss=2.42, step=98000]\n",
            "Valid: 100% 6336/6344 [00:04<00:00, 1580.73 uttr/s, accuracy=0.30, loss=3.55]\n",
            "Train: 100% 2000/2000 [00:56<00:00, 35.61 step/s, accuracy=0.22, loss=3.54, step=1e+5] \n",
            "Valid: 100% 6336/6344 [00:03<00:00, 1588.63 uttr/s, accuracy=0.28, loss=3.63]\n",
            "Train:   0% 6/2000 [00:00<01:10, 28.32 step/s, accuracy=0.25, loss=3.20, step=1e+5]"
          ]
        },
        {
          "name": "stdout",
          "output_type": "stream",
          "text": [
            "Step 100000, best model saved. (accuracy=0.2986)\n"
          ]
        },
        {
          "name": "stderr",
          "output_type": "stream",
          "text": [
            "Train: 100% 2000/2000 [00:54<00:00, 36.49 step/s, accuracy=0.38, loss=3.42, step=102000]\n",
            "Valid: 100% 6336/6344 [00:04<00:00, 1574.85 uttr/s, accuracy=0.30, loss=3.54]\n",
            "Train: 100% 2000/2000 [00:54<00:00, 36.47 step/s, accuracy=0.28, loss=2.99, step=104000]\n",
            "Valid: 100% 6336/6344 [00:03<00:00, 1601.45 uttr/s, accuracy=0.29, loss=3.58]\n",
            "Train: 100% 2000/2000 [00:54<00:00, 36.63 step/s, accuracy=0.28, loss=3.59, step=106000]\n",
            "Valid: 100% 6336/6344 [00:03<00:00, 1591.82 uttr/s, accuracy=0.28, loss=3.62]\n",
            "Train: 100% 2000/2000 [00:54<00:00, 36.64 step/s, accuracy=0.34, loss=2.99, step=108000]\n",
            "Valid: 100% 6336/6344 [00:03<00:00, 1589.03 uttr/s, accuracy=0.29, loss=3.57]\n",
            "Train: 100% 2000/2000 [00:54<00:00, 36.63 step/s, accuracy=0.38, loss=3.06, step=110000]\n",
            "Valid: 100% 6336/6344 [00:03<00:00, 1599.03 uttr/s, accuracy=0.30, loss=3.60]\n",
            "Train:   0% 7/2000 [00:00<01:04, 31.03 step/s, accuracy=0.38, loss=2.69, step=110006]"
          ]
        },
        {
          "name": "stdout",
          "output_type": "stream",
          "text": [
            "Step 110000, best model saved. (accuracy=0.2986)\n"
          ]
        },
        {
          "name": "stderr",
          "output_type": "stream",
          "text": [
            "Train: 100% 2000/2000 [00:54<00:00, 36.60 step/s, accuracy=0.41, loss=2.54, step=112000]\n",
            "Valid: 100% 6336/6344 [00:03<00:00, 1614.88 uttr/s, accuracy=0.29, loss=3.59]\n",
            "Train: 100% 2000/2000 [00:54<00:00, 36.63 step/s, accuracy=0.28, loss=3.33, step=114000]\n",
            "Valid: 100% 6336/6344 [00:03<00:00, 1600.64 uttr/s, accuracy=0.30, loss=3.58]\n",
            "Train: 100% 2000/2000 [00:54<00:00, 36.55 step/s, accuracy=0.25, loss=2.75, step=116000]\n",
            "Valid: 100% 6336/6344 [00:03<00:00, 1596.22 uttr/s, accuracy=0.30, loss=3.49]\n",
            "Train: 100% 2000/2000 [00:54<00:00, 36.54 step/s, accuracy=0.41, loss=2.77, step=118000]\n",
            "Valid: 100% 6336/6344 [00:03<00:00, 1594.61 uttr/s, accuracy=0.30, loss=3.56]\n",
            "Train: 100% 2000/2000 [00:56<00:00, 35.67 step/s, accuracy=0.31, loss=3.10, step=120000]\n",
            "Valid: 100% 6336/6344 [00:04<00:00, 1555.19 uttr/s, accuracy=0.30, loss=3.52]\n",
            "Train:   0% 7/2000 [00:00<01:08, 29.30 step/s, accuracy=0.41, loss=2.89, step=120007]"
          ]
        },
        {
          "name": "stdout",
          "output_type": "stream",
          "text": [
            "Step 120000, best model saved. (accuracy=0.3008)\n"
          ]
        },
        {
          "name": "stderr",
          "output_type": "stream",
          "text": [
            "Train: 100% 2000/2000 [00:54<00:00, 36.52 step/s, accuracy=0.50, loss=2.74, step=122000]\n",
            "Valid: 100% 6336/6344 [00:03<00:00, 1628.96 uttr/s, accuracy=0.30, loss=3.58]\n",
            "Train: 100% 2000/2000 [00:54<00:00, 36.43 step/s, accuracy=0.47, loss=3.02, step=124000]\n",
            "Valid: 100% 6336/6344 [00:03<00:00, 1608.34 uttr/s, accuracy=0.29, loss=3.56]\n",
            "Train: 100% 2000/2000 [00:54<00:00, 36.50 step/s, accuracy=0.25, loss=3.22, step=126000]\n",
            "Valid: 100% 6336/6344 [00:03<00:00, 1591.02 uttr/s, accuracy=0.29, loss=3.63]\n",
            "Train: 100% 2000/2000 [00:54<00:00, 36.48 step/s, accuracy=0.41, loss=2.95, step=128000]\n",
            "Valid: 100% 6336/6344 [00:03<00:00, 1608.75 uttr/s, accuracy=0.29, loss=3.59]\n",
            "Train: 100% 2000/2000 [00:55<00:00, 36.14 step/s, accuracy=0.41, loss=2.54, step=130000]\n",
            "Valid: 100% 6336/6344 [00:03<00:00, 1609.15 uttr/s, accuracy=0.29, loss=3.58]\n",
            "Train:   0% 6/2000 [00:00<01:26, 22.96 step/s, accuracy=0.44, loss=2.93, step=130006]"
          ]
        },
        {
          "name": "stdout",
          "output_type": "stream",
          "text": [
            "Step 130000, best model saved. (accuracy=0.3008)\n"
          ]
        },
        {
          "name": "stderr",
          "output_type": "stream",
          "text": [
            "Train: 100% 2000/2000 [00:55<00:00, 36.07 step/s, accuracy=0.34, loss=2.91, step=132000]\n",
            "Valid: 100% 6336/6344 [00:03<00:00, 1599.83 uttr/s, accuracy=0.29, loss=3.55]\n",
            "Train: 100% 2000/2000 [00:54<00:00, 36.47 step/s, accuracy=0.41, loss=2.63, step=134000]\n",
            "Valid: 100% 6336/6344 [00:03<00:00, 1593.41 uttr/s, accuracy=0.30, loss=3.51]\n",
            "Train: 100% 2000/2000 [00:54<00:00, 36.48 step/s, accuracy=0.34, loss=2.65, step=136000]\n",
            "Valid: 100% 6336/6344 [00:03<00:00, 1585.06 uttr/s, accuracy=0.31, loss=3.54]\n",
            "Train: 100% 2000/2000 [00:54<00:00, 36.46 step/s, accuracy=0.56, loss=2.34, step=138000]\n",
            "Valid: 100% 6336/6344 [00:03<00:00, 1601.85 uttr/s, accuracy=0.30, loss=3.55]\n",
            "Train: 100% 2000/2000 [00:55<00:00, 36.11 step/s, accuracy=0.41, loss=2.91, step=140000]\n",
            "Valid: 100% 6336/6344 [00:04<00:00, 1497.28 uttr/s, accuracy=0.30, loss=3.49]\n",
            "Train:   0% 6/2000 [00:00<01:14, 26.59 step/s, accuracy=0.44, loss=2.50, step=140005]"
          ]
        },
        {
          "name": "stdout",
          "output_type": "stream",
          "text": [
            "Step 140000, best model saved. (accuracy=0.3052)\n"
          ]
        },
        {
          "name": "stderr",
          "output_type": "stream",
          "text": [
            "Train: 100% 2000/2000 [00:55<00:00, 36.19 step/s, accuracy=0.53, loss=2.41, step=142000]\n",
            "Valid: 100% 6336/6344 [00:04<00:00, 1576.80 uttr/s, accuracy=0.30, loss=3.51]\n",
            "Train: 100% 2000/2000 [00:54<00:00, 36.45 step/s, accuracy=0.38, loss=2.44, step=144000]\n",
            "Valid: 100% 6336/6344 [00:03<00:00, 1591.42 uttr/s, accuracy=0.30, loss=3.55]\n",
            "Train: 100% 2000/2000 [00:54<00:00, 36.52 step/s, accuracy=0.44, loss=2.98, step=146000]\n",
            "Valid: 100% 6336/6344 [00:03<00:00, 1609.97 uttr/s, accuracy=0.30, loss=3.52]\n",
            "Train: 100% 2000/2000 [00:54<00:00, 36.44 step/s, accuracy=0.44, loss=2.47, step=148000]\n",
            "Valid: 100% 6336/6344 [00:03<00:00, 1608.34 uttr/s, accuracy=0.30, loss=3.52]\n",
            "Train: 100% 2000/2000 [00:54<00:00, 36.48 step/s, accuracy=0.47, loss=2.93, step=150000]\n",
            "Valid: 100% 6336/6344 [00:03<00:00, 1598.63 uttr/s, accuracy=0.29, loss=3.55]\n",
            "Train:   0% 7/2000 [00:00<01:07, 29.52 step/s, accuracy=0.28, loss=3.26, step=150007]"
          ]
        },
        {
          "name": "stdout",
          "output_type": "stream",
          "text": [
            "Step 150000, best model saved. (accuracy=0.3052)\n"
          ]
        },
        {
          "name": "stderr",
          "output_type": "stream",
          "text": [
            "Train: 100% 2000/2000 [00:54<00:00, 36.49 step/s, accuracy=0.38, loss=3.36, step=152000]\n",
            "Valid: 100% 6336/6344 [00:04<00:00, 1578.37 uttr/s, accuracy=0.30, loss=3.51]\n",
            "Train: 100% 2000/2000 [00:54<00:00, 36.54 step/s, accuracy=0.34, loss=2.83, step=154000]\n",
            "Valid: 100% 6336/6344 [00:04<00:00, 1567.08 uttr/s, accuracy=0.30, loss=3.53]\n",
            "Train: 100% 2000/2000 [00:54<00:00, 36.46 step/s, accuracy=0.41, loss=3.11, step=156000]\n",
            "Valid: 100% 6336/6344 [00:03<00:00, 1611.19 uttr/s, accuracy=0.30, loss=3.52]\n",
            "Train: 100% 2000/2000 [00:54<00:00, 36.47 step/s, accuracy=0.22, loss=3.28, step=158000]\n",
            "Valid: 100% 6336/6344 [00:03<00:00, 1589.43 uttr/s, accuracy=0.30, loss=3.50]\n",
            "Train: 100% 2000/2000 [00:55<00:00, 36.12 step/s, accuracy=0.22, loss=3.57, step=160000]\n",
            "Valid: 100% 6336/6344 [00:04<00:00, 1487.81 uttr/s, accuracy=0.30, loss=3.53]\n",
            "Train:   0% 5/2000 [00:00<01:28, 22.61 step/s, accuracy=0.28, loss=2.94, step=160004]"
          ]
        },
        {
          "name": "stdout",
          "output_type": "stream",
          "text": [
            "Step 160000, best model saved. (accuracy=0.3052)\n"
          ]
        },
        {
          "name": "stderr",
          "output_type": "stream",
          "text": [
            "Train: 100% 2000/2000 [00:56<00:00, 35.14 step/s, accuracy=0.34, loss=3.01, step=162000]\n",
            "Valid: 100% 6336/6344 [00:03<00:00, 1603.87 uttr/s, accuracy=0.29, loss=3.56]\n",
            "Train: 100% 2000/2000 [00:54<00:00, 36.47 step/s, accuracy=0.34, loss=3.19, step=164000]\n",
            "Valid: 100% 6336/6344 [00:04<00:00, 1578.76 uttr/s, accuracy=0.31, loss=3.52]\n",
            "Train: 100% 2000/2000 [00:54<00:00, 36.51 step/s, accuracy=0.41, loss=2.56, step=166000]\n",
            "Valid: 100% 6336/6344 [00:03<00:00, 1597.02 uttr/s, accuracy=0.30, loss=3.51]\n",
            "Train: 100% 2000/2000 [00:54<00:00, 36.52 step/s, accuracy=0.38, loss=2.64, step=168000]\n",
            "Valid: 100% 6336/6344 [00:04<00:00, 1581.51 uttr/s, accuracy=0.29, loss=3.57]\n",
            "Train: 100% 2000/2000 [00:54<00:00, 36.50 step/s, accuracy=0.47, loss=2.94, step=170000]\n",
            "Valid: 100% 6336/6344 [00:03<00:00, 1593.81 uttr/s, accuracy=0.31, loss=3.46]\n",
            "Train:   0% 6/2000 [00:00<01:10, 28.39 step/s, accuracy=0.41, loss=2.46, step=170006]"
          ]
        },
        {
          "name": "stdout",
          "output_type": "stream",
          "text": [
            "Step 170000, best model saved. (accuracy=0.3059)\n"
          ]
        },
        {
          "name": "stderr",
          "output_type": "stream",
          "text": [
            "Train: 100% 2000/2000 [00:54<00:00, 36.56 step/s, accuracy=0.38, loss=2.98, step=172000]\n",
            "Valid: 100% 6336/6344 [00:03<00:00, 1610.79 uttr/s, accuracy=0.30, loss=3.49]\n",
            "Train: 100% 2000/2000 [00:54<00:00, 36.60 step/s, accuracy=0.53, loss=2.40, step=174000]\n",
            "Valid: 100% 6336/6344 [00:03<00:00, 1601.04 uttr/s, accuracy=0.31, loss=3.50]\n",
            "Train: 100% 2000/2000 [00:54<00:00, 36.55 step/s, accuracy=0.47, loss=2.30, step=176000]\n",
            "Valid: 100% 6336/6344 [00:03<00:00, 1596.62 uttr/s, accuracy=0.31, loss=3.46]\n",
            "Train: 100% 2000/2000 [00:54<00:00, 36.59 step/s, accuracy=0.34, loss=2.98, step=178000]\n",
            "Valid: 100% 6336/6344 [00:03<00:00, 1603.87 uttr/s, accuracy=0.31, loss=3.48]\n",
            "Train: 100% 2000/2000 [00:55<00:00, 35.84 step/s, accuracy=0.28, loss=3.56, step=180000]\n",
            "Valid: 100% 6336/6344 [00:04<00:00, 1578.37 uttr/s, accuracy=0.30, loss=3.51]\n",
            "Train:   0% 7/2000 [00:00<01:07, 29.31 step/s, accuracy=0.41, loss=3.03, step=180007]"
          ]
        },
        {
          "name": "stdout",
          "output_type": "stream",
          "text": [
            "Step 180000, best model saved. (accuracy=0.3106)\n"
          ]
        },
        {
          "name": "stderr",
          "output_type": "stream",
          "text": [
            "Train: 100% 2000/2000 [00:56<00:00, 35.71 step/s, accuracy=0.41, loss=2.86, step=182000]\n",
            "Valid: 100% 6336/6344 [00:03<00:00, 1596.62 uttr/s, accuracy=0.30, loss=3.50]\n",
            "Train: 100% 2000/2000 [00:54<00:00, 36.55 step/s, accuracy=0.44, loss=2.73, step=184000]\n",
            "Valid: 100% 6336/6344 [00:03<00:00, 1592.61 uttr/s, accuracy=0.31, loss=3.46]\n",
            "Train: 100% 2000/2000 [00:54<00:00, 36.47 step/s, accuracy=0.34, loss=3.30, step=186000]\n",
            "Valid: 100% 6336/6344 [00:03<00:00, 1585.86 uttr/s, accuracy=0.30, loss=3.56]\n",
            "Train: 100% 2000/2000 [00:54<00:00, 36.48 step/s, accuracy=0.66, loss=1.94, step=188000]\n",
            "Valid: 100% 6336/6344 [00:03<00:00, 1603.87 uttr/s, accuracy=0.31, loss=3.48]\n",
            "Train: 100% 2000/2000 [00:54<00:00, 36.48 step/s, accuracy=0.53, loss=2.21, step=190000]\n",
            "Valid: 100% 6336/6344 [00:03<00:00, 1603.47 uttr/s, accuracy=0.30, loss=3.53]\n",
            "Train:   0% 7/2000 [00:00<01:09, 28.69 step/s, accuracy=0.53, loss=2.63, step=190007]"
          ]
        },
        {
          "name": "stdout",
          "output_type": "stream",
          "text": [
            "Step 190000, best model saved. (accuracy=0.3106)\n"
          ]
        },
        {
          "name": "stderr",
          "output_type": "stream",
          "text": [
            "Train: 100% 2000/2000 [00:54<00:00, 36.48 step/s, accuracy=0.53, loss=2.34, step=192000]\n",
            "Valid: 100% 6336/6344 [00:03<00:00, 1590.62 uttr/s, accuracy=0.31, loss=3.50]\n",
            "Train: 100% 2000/2000 [00:54<00:00, 36.46 step/s, accuracy=0.41, loss=2.57, step=194000]\n",
            "Valid: 100% 6336/6344 [00:03<00:00, 1594.21 uttr/s, accuracy=0.30, loss=3.52]\n",
            "Train: 100% 2000/2000 [00:54<00:00, 36.49 step/s, accuracy=0.31, loss=3.12, step=196000]\n",
            "Valid: 100% 6336/6344 [00:03<00:00, 1605.90 uttr/s, accuracy=0.30, loss=3.49]\n",
            "Train: 100% 2000/2000 [00:54<00:00, 36.49 step/s, accuracy=0.56, loss=2.31, step=198000]\n",
            "Valid: 100% 6336/6344 [00:03<00:00, 1584.27 uttr/s, accuracy=0.31, loss=3.51]\n",
            "Train: 100% 2000/2000 [00:54<00:00, 36.42 step/s, accuracy=0.50, loss=2.85, step=2e+5]  \n",
            "Valid: 100% 6336/6344 [00:03<00:00, 1603.47 uttr/s, accuracy=0.31, loss=3.51]\n",
            "Train:   0% 0/2000 [00:00<?, ? step/s]"
          ]
        },
        {
          "name": "stdout",
          "output_type": "stream",
          "text": [
            "Step 200000, best model saved. (accuracy=0.3106)\n"
          ]
        },
        {
          "name": "stderr",
          "output_type": "stream",
          "text": [
            "\n"
          ]
        }
      ],
      "source": [
        "from tqdm import tqdm\n",
        "import torch\n",
        "import torch.nn as nn\n",
        "from torch.optim import AdamW\n",
        "from torch.utils.data import DataLoader, random_split\n",
        "\n",
        "\n",
        "def parse_args():\n",
        "  \"\"\"arguments\"\"\"\n",
        "  config = {\n",
        "    \"data_dir\": \"./Dataset\",\n",
        "    \"save_path\": {\n",
        "        \"config1\": \"./model1.ckpt\",\n",
        "        \"config2\": \"./model2.ckpt\",\n",
        "        \"config3\": \"./model3.ckpt\",\n",
        "    },\n",
        "    \"batch_size\": 32,\n",
        "    \"n_workers\": 0,\n",
        "    \"valid_steps\": 2000,\n",
        "    \"warmup_steps\": 1000,\n",
        "    \"save_steps\": 10000,\n",
        "    \"total_steps\": 200000,\n",
        "    \"model_config\":{\n",
        "        \"config1\":{\n",
        "            \"dim\" : 512,\n",
        "            \"dim_head\": 64,\n",
        "            \"heads\": 8,\n",
        "            \"ff_mult\": 4,\n",
        "            \"conv_expansion_factor\": 2,\n",
        "            \"conv_kernel_size\": 31,\n",
        "            \"attn_dropout\" : 0.1,\n",
        "            \"ff_dropout\" : 0.1,\n",
        "            \"conv_dropout\" : 0.1,\n",
        "        },\n",
        "        \"config2\":{\n",
        "            \"dim\" : 512,\n",
        "            \"dim_head\": 32,\n",
        "            \"heads\": 1,\n",
        "            \"ff_mult\": 4,\n",
        "            \"conv_expansion_factor\": 2,\n",
        "            \"conv_kernel_size\": 31,\n",
        "            \"attn_dropout\" : 0.1,\n",
        "            \"ff_dropout\" : 0.1,\n",
        "            \"conv_dropout\" : 0.1,\n",
        "        },\n",
        "        \"config3\":{\n",
        "            \"dim\" : 512,\n",
        "            \"dim_head\": 16,\n",
        "            \"heads\": 1,\n",
        "            \"ff_mult\": 4,\n",
        "            \"conv_expansion_factor\": 2,\n",
        "            \"conv_kernel_size\": 31,\n",
        "            \"attn_dropout\" : 0.1,\n",
        "            \"ff_dropout\" : 0.1,\n",
        "            \"conv_dropout\" : 0.1,\n",
        "        },\n",
        "    },\n",
        "  }\n",
        "\n",
        "  return config\n",
        "\n",
        "# fix random seed\n",
        "def same_seeds(seed):\n",
        "    torch.manual_seed(seed)\n",
        "    if torch.cuda.is_available():\n",
        "        torch.cuda.manual_seed(seed)\n",
        "        torch.cuda.manual_seed_all(seed)\n",
        "    torch.backends.cudnn.benchmark = False\n",
        "    torch.backends.cudnn.deterministic = True\n",
        "\n",
        "def train_main(\n",
        "    data_dir,\n",
        "    save_path,\n",
        "    batch_size,\n",
        "    n_workers,\n",
        "    valid_steps,\n",
        "    warmup_steps,\n",
        "    total_steps,\n",
        "    save_steps,\n",
        "    model_config,\n",
        "):\n",
        "    \"\"\"Main function.\"\"\"\n",
        "    for i in model_config:\n",
        "        print(f\"[Info]: Use Model-{i} now!\")\n",
        "        same_seeds(0)\n",
        "        device = torch.device(\"cuda\" if torch.cuda.is_available() else \"cpu\")\n",
        "        print(f\"[Info]: Use {device} now!\")\n",
        "\n",
        "        train_loader, valid_loader, speaker_num = get_dataloader(data_dir, batch_size, n_workers)\n",
        "        train_iterator = iter(train_loader)\n",
        "        print(f\"[Info]: Finish loading data!\",flush = True)\n",
        "\n",
        "        model = Classifier(model_config[i], n_spks=speaker_num).to(device)\n",
        "        criterion = nn.CrossEntropyLoss()\n",
        "        optimizer = AdamW(model.parameters(), lr=1e-3)\n",
        "        scheduler = get_cosine_schedule_with_warmup(optimizer, warmup_steps, total_steps)\n",
        "        print(f\"[Info]: Finish creating model!\",flush = True)\n",
        "\n",
        "        best_accuracy = -1.0\n",
        "        best_state_dict = None\n",
        "\n",
        "        pbar = tqdm(total=valid_steps, ncols=0, desc=\"Train\", unit=\" step\")\n",
        "\n",
        "        for step in range(total_steps):\n",
        "            # Get data\n",
        "            try:\n",
        "                batch = next(train_iterator)\n",
        "            except StopIteration:\n",
        "                train_iterator = iter(train_loader)\n",
        "                batch = next(train_iterator)\n",
        "\n",
        "            loss, accuracy = model_fn(batch, model, criterion, device)\n",
        "            batch_loss = loss.item()\n",
        "            batch_accuracy = accuracy.item()\n",
        "\n",
        "            # Updata model\n",
        "            loss.backward()\n",
        "            optimizer.step()\n",
        "            scheduler.step()\n",
        "            optimizer.zero_grad()\n",
        "            \n",
        "            # Log\n",
        "            pbar.update()\n",
        "            pbar.set_postfix(\n",
        "                loss=f\"{batch_loss:.2f}\",\n",
        "                accuracy=f\"{batch_accuracy:.2f}\",\n",
        "                step=step + 1,\n",
        "            )\n",
        "\n",
        "            # Do validation\n",
        "            if (step + 1) % valid_steps == 0:\n",
        "                pbar.close()\n",
        "\n",
        "                valid_accuracy = valid(valid_loader, model, criterion, device)\n",
        "\n",
        "                # keep the best model\n",
        "                if valid_accuracy > best_accuracy:\n",
        "                    best_accuracy = valid_accuracy\n",
        "                    best_state_dict = model.state_dict()\n",
        "\n",
        "                pbar = tqdm(total=valid_steps, ncols=0, desc=\"Train\", unit=\" step\")\n",
        "\n",
        "            # Save the best model so far.\n",
        "            if (step + 1) % save_steps == 0 and best_state_dict is not None:\n",
        "                # torch.save(best_state_dict, save_path)\n",
        "                torch.save(best_state_dict, save_path[i])\n",
        "                pbar.write(f\"Step {step + 1}, best model saved. (accuracy={best_accuracy:.4f})\")\n",
        "\n",
        "        pbar.close()\n",
        "\n",
        "\n",
        "if __name__ == \"__main__\":\n",
        "    train_main(**parse_args())\n"
      ]
    },
    {
      "attachments": {},
      "cell_type": "markdown",
      "metadata": {
        "id": "0R2rx3AyHpQ-"
      },
      "source": [
        "# Inference"
      ]
    },
    {
      "attachments": {},
      "cell_type": "markdown",
      "metadata": {
        "id": "pSuI3WY9Fz78"
      },
      "source": [
        "## Dataset of inference"
      ]
    },
    {
      "cell_type": "code",
      "execution_count": 19,
      "metadata": {
        "id": "4evns0055Dsx"
      },
      "outputs": [],
      "source": [
        "import os\n",
        "import json\n",
        "import torch\n",
        "from pathlib import Path\n",
        "from torch.utils.data import Dataset\n",
        "\n",
        "\n",
        "class InferenceDataset(Dataset):\n",
        "    def __init__(self, data_dir):\n",
        "        testdata_path = Path(data_dir) / \"testdata.json\"\n",
        "        metadata = json.load(testdata_path.open())\n",
        "        self.data_dir = data_dir\n",
        "        self.data = metadata[\"utterances\"]\n",
        "\n",
        "    def __len__(self):\n",
        "        return len(self.data)\n",
        "\n",
        "    def __getitem__(self, index):\n",
        "        utterance = self.data[index]\n",
        "        feat_path = utterance[\"feature_path\"]\n",
        "        mel = torch.load(os.path.join(self.data_dir, feat_path))\n",
        "\n",
        "        return feat_path, mel\n",
        "\n",
        "\n",
        "def inference_collate_batch(batch):\n",
        "    \"\"\"Collate a batch of data.\"\"\"\n",
        "    feat_paths, mels = zip(*batch)\n",
        "\n",
        "    return feat_paths, torch.stack(mels)\n"
      ]
    },
    {
      "attachments": {},
      "cell_type": "markdown",
      "metadata": {
        "id": "oAinHBG1GIWv"
      },
      "source": [
        "## Main funcrion of Inference"
      ]
    },
    {
      "cell_type": "code",
      "execution_count": 20,
      "metadata": {
        "colab": {
          "base_uri": "https://localhost:8080/",
          "height": 158,
          "referenced_widgets": [
            "5142840990cf4970917804e9db8428b5",
            "add2fa72d7a548ce8833dd209953d70c",
            "2817a71bc8164a61920f7c9232412f47",
            "313e6090570c495fadc4188537677fb3",
            "da8356a7fdf1491e85e3df157677422f",
            "e7724965a4c54247989b91aca417f4ba",
            "f7c4f9086b4642f894ddc5748231fbd5",
            "58a5655c202b4efda7a521d40cfb62c2",
            "e4ee34970cd7413db55b684f68647fb5",
            "a118feaabf7d4cfdb38e5b7f40c2c8c2",
            "523895b71ada4f68994619dd5e2abdbf"
          ]
        },
        "id": "yQaTt7VDHoRI",
        "outputId": "99b403b7-531a-4094-c3f3-fd99a0dd8060"
      },
      "outputs": [
        {
          "name": "stdout",
          "output_type": "stream",
          "text": [
            "[Info]: Use cuda now!\n",
            "[Info]: Finish loading data!\n",
            "[Info]: Finish creating model!\n"
          ]
        },
        {
          "name": "stderr",
          "output_type": "stream",
          "text": [
            "100%|██████████| 6000/6000 [00:28<00:00, 206.90it/s]\n",
            "100%|██████████| 6000/6000 [00:28<00:00, 211.04it/s]\n",
            "100%|██████████| 6000/6000 [00:27<00:00, 215.53it/s]\n",
            "100%|██████████| 6000/6000 [01:04<00:00, 93.64it/s] \n"
          ]
        }
      ],
      "source": [
        "import json\n",
        "import csv\n",
        "from pathlib import Path\n",
        "from tqdm import tqdm\n",
        "\n",
        "import torch\n",
        "from torch.utils.data import DataLoader\n",
        "\n",
        "def parse_args():\n",
        "    \"\"\"arguments\"\"\"\n",
        "    config = {\n",
        "        \"data_dir\": \"./Dataset\",\n",
        "        \"model_path\": {\n",
        "            \"config1\":\"./model1.ckpt\",\n",
        "            \"config2\":\"./model2.ckpt\",\n",
        "            \"config3\":\"./model3.ckpt\",\n",
        "        },\n",
        "        \"output_path\": {\n",
        "            \"config1\":\"./output1.csv\",\n",
        "            \"config2\":\"./output2.csv\",\n",
        "            \"config3\":\"./output3.csv\",\n",
        "            \"config4\":\"./ensemble_output.csv\",\n",
        "        },\n",
        "        \"model_config\":{\n",
        "            \"config1\":{\n",
        "                \"dim\" : 512,\n",
        "                \"dim_head\": 64,\n",
        "                \"heads\": 8,\n",
        "                \"ff_mult\": 4,\n",
        "                \"conv_expansion_factor\": 2,\n",
        "                \"conv_kernel_size\": 31,\n",
        "                \"attn_dropout\" : 0.1,\n",
        "                \"ff_dropout\" : 0.1,\n",
        "                \"conv_dropout\" : 0.1,\n",
        "            },\n",
        "            \"config2\":{\n",
        "                \"dim\" : 512,\n",
        "                \"dim_head\": 32,\n",
        "                \"heads\": 1,\n",
        "                \"ff_mult\": 4,\n",
        "                \"conv_expansion_factor\": 2,\n",
        "                \"conv_kernel_size\": 31,\n",
        "                \"attn_dropout\" : 0.1,\n",
        "                \"ff_dropout\" : 0.1,\n",
        "                \"conv_dropout\" : 0.1,\n",
        "            },\n",
        "            \"config3\":{\n",
        "                \"dim\" : 512,\n",
        "                \"dim_head\": 16,\n",
        "                \"heads\": 1,\n",
        "                \"ff_mult\": 4,\n",
        "                \"conv_expansion_factor\": 2,\n",
        "                \"conv_kernel_size\": 31,\n",
        "                \"attn_dropout\" : 0.1,\n",
        "                \"ff_dropout\" : 0.1,\n",
        "                \"conv_dropout\" : 0.1,\n",
        "            },\n",
        "        },\n",
        "    }\n",
        "    return config\n",
        "\n",
        "\n",
        "def test_main(\n",
        "    data_dir,\n",
        "    model_path,\n",
        "    output_path,\n",
        "    model_config,\n",
        "):\n",
        "    \"\"\"Main function.\"\"\"\n",
        "    device = torch.device(\"cuda\" if torch.cuda.is_available() else \"cpu\")\n",
        "    print(f\"[Info]: Use {device} now!\")\n",
        "\n",
        "    mapping_path = Path(data_dir) / \"mapping.json\"\n",
        "    mapping = json.load(mapping_path.open())\n",
        "\n",
        "    dataset = InferenceDataset(data_dir)\n",
        "    dataloader = DataLoader(\n",
        "        dataset,\n",
        "        batch_size=1,\n",
        "        shuffle=False,\n",
        "        drop_last=False,\n",
        "        num_workers=0,\n",
        "        collate_fn=inference_collate_batch,\n",
        "    )\n",
        "    print(f\"[Info]: Finish loading data!\",flush = True)\n",
        "\n",
        "    speaker_num = len(mapping[\"id2speaker\"])\n",
        "    # model = Classifier(n_spks=speaker_num).to(device)\n",
        "    # model.load_state_dict(torch.load(model_path))\n",
        "    model1 = Classifier(model_config[\"config1\"], n_spks=speaker_num).to(device)\n",
        "    model1.load_state_dict(torch.load(model_path['config1']))\n",
        "    model1.eval()\n",
        "    model2 = Classifier(model_config[\"config2\"], n_spks=speaker_num).to(device)\n",
        "    model2.load_state_dict(torch.load(model_path['config2']))\n",
        "    model2.eval()\n",
        "    model3 = Classifier(model_config[\"config3\"], n_spks=speaker_num).to(device)\n",
        "    model3.load_state_dict(torch.load(model_path['config3']))\n",
        "    model3.eval()\n",
        "    print(f\"[Info]: Finish creating model!\",flush = True)\n",
        "#----------------------------------------------------------------------\n",
        "# Model-1\n",
        "#----------------------------------------------------------------------\n",
        "    results = [[\"Id\", \"Category\"]]\n",
        "    for feat_paths, mels in tqdm(dataloader):\n",
        "        with torch.no_grad():\n",
        "            mels = mels.to(device)\n",
        "            outs = model1(mels)\n",
        "            preds = outs.argmax(1).cpu().numpy()\n",
        "            for feat_path, pred in zip(feat_paths, preds):\n",
        "                results.append([feat_path, mapping[\"id2speaker\"][str(pred)]])\n",
        "    \n",
        "    with open(output_path[\"config1\"], 'w', newline='') as csvfile:\n",
        "        writer = csv.writer(csvfile)\n",
        "        writer.writerows(results)\n",
        "#----------------------------------------------------------------------\n",
        "# Model-2\n",
        "#----------------------------------------------------------------------\n",
        "    results = [[\"Id\", \"Category\"]]\n",
        "    for feat_paths, mels in tqdm(dataloader):\n",
        "        with torch.no_grad():\n",
        "            mels = mels.to(device)\n",
        "            outs = model2(mels)\n",
        "            preds = outs.argmax(1).cpu().numpy()\n",
        "            for feat_path, pred in zip(feat_paths, preds):\n",
        "                results.append([feat_path, mapping[\"id2speaker\"][str(pred)]])\n",
        "    \n",
        "    with open(output_path[\"config2\"], 'w', newline='') as csvfile:\n",
        "        writer = csv.writer(csvfile)\n",
        "        writer.writerows(results)\n",
        "#----------------------------------------------------------------------\n",
        "# Model-3\n",
        "#----------------------------------------------------------------------\n",
        "    results = [[\"Id\", \"Category\"]]\n",
        "    for feat_paths, mels in tqdm(dataloader):\n",
        "        with torch.no_grad():\n",
        "            mels = mels.to(device)\n",
        "            outs = model3(mels)\n",
        "            preds = outs.argmax(1).cpu().numpy()\n",
        "            for feat_path, pred in zip(feat_paths, preds):\n",
        "                results.append([feat_path, mapping[\"id2speaker\"][str(pred)]])\n",
        "    \n",
        "    with open(output_path[\"config3\"], 'w', newline='') as csvfile:\n",
        "        writer = csv.writer(csvfile)\n",
        "        writer.writerows(results)\n",
        "#----------------------------------------------------------------------\n",
        "# Ensemble-Model\n",
        "#----------------------------------------------------------------------\n",
        "    results = [[\"Id\", \"Category\"]]\n",
        "    for feat_paths, mels in tqdm(dataloader):\n",
        "        with torch.no_grad():\n",
        "            mels = mels.to(device)\n",
        "            # outs = model(mels)\n",
        "            outs1 = model1(mels)\n",
        "            outs2 = model2(mels)\n",
        "            outs3 = model3(mels)\n",
        "            outs = (outs1+outs2+outs3) / 3\n",
        "            preds = outs.argmax(1).cpu().numpy()\n",
        "            for feat_path, pred in zip(feat_paths, preds):\n",
        "                results.append([feat_path, mapping[\"id2speaker\"][str(pred)]])\n",
        "    \n",
        "    with open(output_path[\"config4\"], 'w', newline='') as csvfile:\n",
        "        writer = csv.writer(csvfile)\n",
        "        writer.writerows(results)\n",
        "\n",
        "\n",
        "if __name__ == \"__main__\":\n",
        "    test_main(**parse_args())\n"
      ]
    }
  ],
  "metadata": {
    "accelerator": "GPU",
    "colab": {
      "collapsed_sections": [],
      "name": "HW04.ipynb",
      "provenance": []
    },
    "kernelspec": {
      "display_name": "Yolov7",
      "language": "python",
      "name": "python3"
    },
    "language_info": {
      "codemirror_mode": {
        "name": "ipython",
        "version": 3
      },
      "file_extension": ".py",
      "mimetype": "text/x-python",
      "name": "python",
      "nbconvert_exporter": "python",
      "pygments_lexer": "ipython3",
      "version": "3.10.4"
    },
    "widgets": {
      "application/vnd.jupyter.widget-state+json": {
        "2817a71bc8164a61920f7c9232412f47": {
          "model_module": "@jupyter-widgets/controls",
          "model_module_version": "1.5.0",
          "model_name": "FloatProgressModel",
          "state": {
            "_dom_classes": [],
            "_model_module": "@jupyter-widgets/controls",
            "_model_module_version": "1.5.0",
            "_model_name": "FloatProgressModel",
            "_view_count": null,
            "_view_module": "@jupyter-widgets/controls",
            "_view_module_version": "1.5.0",
            "_view_name": "ProgressView",
            "bar_style": "success",
            "description": "",
            "description_tooltip": null,
            "layout": "IPY_MODEL_58a5655c202b4efda7a521d40cfb62c2",
            "max": 6000,
            "min": 0,
            "orientation": "horizontal",
            "style": "IPY_MODEL_e4ee34970cd7413db55b684f68647fb5",
            "value": 6000
          }
        },
        "313e6090570c495fadc4188537677fb3": {
          "model_module": "@jupyter-widgets/controls",
          "model_module_version": "1.5.0",
          "model_name": "HTMLModel",
          "state": {
            "_dom_classes": [],
            "_model_module": "@jupyter-widgets/controls",
            "_model_module_version": "1.5.0",
            "_model_name": "HTMLModel",
            "_view_count": null,
            "_view_module": "@jupyter-widgets/controls",
            "_view_module_version": "1.5.0",
            "_view_name": "HTMLView",
            "description": "",
            "description_tooltip": null,
            "layout": "IPY_MODEL_a118feaabf7d4cfdb38e5b7f40c2c8c2",
            "placeholder": "​",
            "style": "IPY_MODEL_523895b71ada4f68994619dd5e2abdbf",
            "value": " 6000/6000 [00:18&lt;00:00, 341.42it/s]"
          }
        },
        "5142840990cf4970917804e9db8428b5": {
          "model_module": "@jupyter-widgets/controls",
          "model_module_version": "1.5.0",
          "model_name": "HBoxModel",
          "state": {
            "_dom_classes": [],
            "_model_module": "@jupyter-widgets/controls",
            "_model_module_version": "1.5.0",
            "_model_name": "HBoxModel",
            "_view_count": null,
            "_view_module": "@jupyter-widgets/controls",
            "_view_module_version": "1.5.0",
            "_view_name": "HBoxView",
            "box_style": "",
            "children": [
              "IPY_MODEL_add2fa72d7a548ce8833dd209953d70c",
              "IPY_MODEL_2817a71bc8164a61920f7c9232412f47",
              "IPY_MODEL_313e6090570c495fadc4188537677fb3"
            ],
            "layout": "IPY_MODEL_da8356a7fdf1491e85e3df157677422f"
          }
        },
        "523895b71ada4f68994619dd5e2abdbf": {
          "model_module": "@jupyter-widgets/controls",
          "model_module_version": "1.5.0",
          "model_name": "DescriptionStyleModel",
          "state": {
            "_model_module": "@jupyter-widgets/controls",
            "_model_module_version": "1.5.0",
            "_model_name": "DescriptionStyleModel",
            "_view_count": null,
            "_view_module": "@jupyter-widgets/base",
            "_view_module_version": "1.2.0",
            "_view_name": "StyleView",
            "description_width": ""
          }
        },
        "58a5655c202b4efda7a521d40cfb62c2": {
          "model_module": "@jupyter-widgets/base",
          "model_module_version": "1.2.0",
          "model_name": "LayoutModel",
          "state": {
            "_model_module": "@jupyter-widgets/base",
            "_model_module_version": "1.2.0",
            "_model_name": "LayoutModel",
            "_view_count": null,
            "_view_module": "@jupyter-widgets/base",
            "_view_module_version": "1.2.0",
            "_view_name": "LayoutView",
            "align_content": null,
            "align_items": null,
            "align_self": null,
            "border": null,
            "bottom": null,
            "display": null,
            "flex": null,
            "flex_flow": null,
            "grid_area": null,
            "grid_auto_columns": null,
            "grid_auto_flow": null,
            "grid_auto_rows": null,
            "grid_column": null,
            "grid_gap": null,
            "grid_row": null,
            "grid_template_areas": null,
            "grid_template_columns": null,
            "grid_template_rows": null,
            "height": null,
            "justify_content": null,
            "justify_items": null,
            "left": null,
            "margin": null,
            "max_height": null,
            "max_width": null,
            "min_height": null,
            "min_width": null,
            "object_fit": null,
            "object_position": null,
            "order": null,
            "overflow": null,
            "overflow_x": null,
            "overflow_y": null,
            "padding": null,
            "right": null,
            "top": null,
            "visibility": null,
            "width": null
          }
        },
        "a118feaabf7d4cfdb38e5b7f40c2c8c2": {
          "model_module": "@jupyter-widgets/base",
          "model_module_version": "1.2.0",
          "model_name": "LayoutModel",
          "state": {
            "_model_module": "@jupyter-widgets/base",
            "_model_module_version": "1.2.0",
            "_model_name": "LayoutModel",
            "_view_count": null,
            "_view_module": "@jupyter-widgets/base",
            "_view_module_version": "1.2.0",
            "_view_name": "LayoutView",
            "align_content": null,
            "align_items": null,
            "align_self": null,
            "border": null,
            "bottom": null,
            "display": null,
            "flex": null,
            "flex_flow": null,
            "grid_area": null,
            "grid_auto_columns": null,
            "grid_auto_flow": null,
            "grid_auto_rows": null,
            "grid_column": null,
            "grid_gap": null,
            "grid_row": null,
            "grid_template_areas": null,
            "grid_template_columns": null,
            "grid_template_rows": null,
            "height": null,
            "justify_content": null,
            "justify_items": null,
            "left": null,
            "margin": null,
            "max_height": null,
            "max_width": null,
            "min_height": null,
            "min_width": null,
            "object_fit": null,
            "object_position": null,
            "order": null,
            "overflow": null,
            "overflow_x": null,
            "overflow_y": null,
            "padding": null,
            "right": null,
            "top": null,
            "visibility": null,
            "width": null
          }
        },
        "add2fa72d7a548ce8833dd209953d70c": {
          "model_module": "@jupyter-widgets/controls",
          "model_module_version": "1.5.0",
          "model_name": "HTMLModel",
          "state": {
            "_dom_classes": [],
            "_model_module": "@jupyter-widgets/controls",
            "_model_module_version": "1.5.0",
            "_model_name": "HTMLModel",
            "_view_count": null,
            "_view_module": "@jupyter-widgets/controls",
            "_view_module_version": "1.5.0",
            "_view_name": "HTMLView",
            "description": "",
            "description_tooltip": null,
            "layout": "IPY_MODEL_e7724965a4c54247989b91aca417f4ba",
            "placeholder": "​",
            "style": "IPY_MODEL_f7c4f9086b4642f894ddc5748231fbd5",
            "value": "100%"
          }
        },
        "da8356a7fdf1491e85e3df157677422f": {
          "model_module": "@jupyter-widgets/base",
          "model_module_version": "1.2.0",
          "model_name": "LayoutModel",
          "state": {
            "_model_module": "@jupyter-widgets/base",
            "_model_module_version": "1.2.0",
            "_model_name": "LayoutModel",
            "_view_count": null,
            "_view_module": "@jupyter-widgets/base",
            "_view_module_version": "1.2.0",
            "_view_name": "LayoutView",
            "align_content": null,
            "align_items": null,
            "align_self": null,
            "border": null,
            "bottom": null,
            "display": null,
            "flex": null,
            "flex_flow": null,
            "grid_area": null,
            "grid_auto_columns": null,
            "grid_auto_flow": null,
            "grid_auto_rows": null,
            "grid_column": null,
            "grid_gap": null,
            "grid_row": null,
            "grid_template_areas": null,
            "grid_template_columns": null,
            "grid_template_rows": null,
            "height": null,
            "justify_content": null,
            "justify_items": null,
            "left": null,
            "margin": null,
            "max_height": null,
            "max_width": null,
            "min_height": null,
            "min_width": null,
            "object_fit": null,
            "object_position": null,
            "order": null,
            "overflow": null,
            "overflow_x": null,
            "overflow_y": null,
            "padding": null,
            "right": null,
            "top": null,
            "visibility": null,
            "width": null
          }
        },
        "e4ee34970cd7413db55b684f68647fb5": {
          "model_module": "@jupyter-widgets/controls",
          "model_module_version": "1.5.0",
          "model_name": "ProgressStyleModel",
          "state": {
            "_model_module": "@jupyter-widgets/controls",
            "_model_module_version": "1.5.0",
            "_model_name": "ProgressStyleModel",
            "_view_count": null,
            "_view_module": "@jupyter-widgets/base",
            "_view_module_version": "1.2.0",
            "_view_name": "StyleView",
            "bar_color": null,
            "description_width": ""
          }
        },
        "e7724965a4c54247989b91aca417f4ba": {
          "model_module": "@jupyter-widgets/base",
          "model_module_version": "1.2.0",
          "model_name": "LayoutModel",
          "state": {
            "_model_module": "@jupyter-widgets/base",
            "_model_module_version": "1.2.0",
            "_model_name": "LayoutModel",
            "_view_count": null,
            "_view_module": "@jupyter-widgets/base",
            "_view_module_version": "1.2.0",
            "_view_name": "LayoutView",
            "align_content": null,
            "align_items": null,
            "align_self": null,
            "border": null,
            "bottom": null,
            "display": null,
            "flex": null,
            "flex_flow": null,
            "grid_area": null,
            "grid_auto_columns": null,
            "grid_auto_flow": null,
            "grid_auto_rows": null,
            "grid_column": null,
            "grid_gap": null,
            "grid_row": null,
            "grid_template_areas": null,
            "grid_template_columns": null,
            "grid_template_rows": null,
            "height": null,
            "justify_content": null,
            "justify_items": null,
            "left": null,
            "margin": null,
            "max_height": null,
            "max_width": null,
            "min_height": null,
            "min_width": null,
            "object_fit": null,
            "object_position": null,
            "order": null,
            "overflow": null,
            "overflow_x": null,
            "overflow_y": null,
            "padding": null,
            "right": null,
            "top": null,
            "visibility": null,
            "width": null
          }
        },
        "f7c4f9086b4642f894ddc5748231fbd5": {
          "model_module": "@jupyter-widgets/controls",
          "model_module_version": "1.5.0",
          "model_name": "DescriptionStyleModel",
          "state": {
            "_model_module": "@jupyter-widgets/controls",
            "_model_module_version": "1.5.0",
            "_model_name": "DescriptionStyleModel",
            "_view_count": null,
            "_view_module": "@jupyter-widgets/base",
            "_view_module_version": "1.2.0",
            "_view_name": "StyleView",
            "description_width": ""
          }
        }
      }
    }
  },
  "nbformat": 4,
  "nbformat_minor": 0
}
